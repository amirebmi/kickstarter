{
  "nbformat": 4,
  "nbformat_minor": 0,
  "metadata": {
    "colab": {
      "name": "Kickstarter Project",
      "provenance": [],
      "collapsed_sections": []
    },
    "kernelspec": {
      "name": "python3",
      "display_name": "Python 3"
    },
    "language_info": {
      "name": "python"
    },
    "accelerator": "GPU"
  },
  "cells": [
    {
      "cell_type": "code",
      "metadata": {
        "id": "BToY9-ly8ERS"
      },
      "source": [
        "import pandas as pd\n",
        "import numpy as np\n",
        "import matplotlib.pyplot as plt\n",
        "import seaborn as sns\n",
        "from sklearn.ensemble import RandomForestClassifier\n",
        "from sklearn.metrics import accuracy_score\n",
        "from sklearn.model_selection import train_test_split, GridSearchCV\n",
        "from matplotlib.ticker import PercentFormatter\n",
        "from sklearn.preprocessing import OneHotEncoder\n",
        "from sklearn.model_selection import cross_val_score\n",
        "from sklearn import metrics\n",
        "from sklearn.neural_network import MLPClassifier\n",
        "%matplotlib inline"
      ],
      "execution_count": null,
      "outputs": []
    },
    {
      "cell_type": "markdown",
      "metadata": {
        "id": "K7d3W2-gmvKS"
      },
      "source": [
        "**Read the dataset**"
      ]
    },
    {
      "cell_type": "code",
      "metadata": {
        "id": "P395YNFE8ftx"
      },
      "source": [
        "df = pd.read_csv('https://raw.githubusercontent.com/amirebmi/kickstarter/master/ks-projects-201801.csv')"
      ],
      "execution_count": null,
      "outputs": []
    },
    {
      "cell_type": "code",
      "metadata": {
        "colab": {
          "base_uri": "https://localhost:8080/",
          "height": 467
        },
        "id": "QfES_vog8qsR",
        "outputId": "6d5fa549-00f5-422a-a1ba-2ad93e8e95f8"
      },
      "source": [
        "df.head()"
      ],
      "execution_count": null,
      "outputs": [
        {
          "output_type": "execute_result",
          "data": {
            "text/html": [
              "<div>\n",
              "<style scoped>\n",
              "    .dataframe tbody tr th:only-of-type {\n",
              "        vertical-align: middle;\n",
              "    }\n",
              "\n",
              "    .dataframe tbody tr th {\n",
              "        vertical-align: top;\n",
              "    }\n",
              "\n",
              "    .dataframe thead th {\n",
              "        text-align: right;\n",
              "    }\n",
              "</style>\n",
              "<table border=\"1\" class=\"dataframe\">\n",
              "  <thead>\n",
              "    <tr style=\"text-align: right;\">\n",
              "      <th></th>\n",
              "      <th>ID</th>\n",
              "      <th>name</th>\n",
              "      <th>category</th>\n",
              "      <th>main_category</th>\n",
              "      <th>currency</th>\n",
              "      <th>deadline</th>\n",
              "      <th>goal</th>\n",
              "      <th>launched</th>\n",
              "      <th>pledged</th>\n",
              "      <th>state</th>\n",
              "      <th>backers</th>\n",
              "      <th>country</th>\n",
              "      <th>usd pledged</th>\n",
              "      <th>usd_pledged_real</th>\n",
              "      <th>usd_goal_real</th>\n",
              "    </tr>\n",
              "  </thead>\n",
              "  <tbody>\n",
              "    <tr>\n",
              "      <th>0</th>\n",
              "      <td>1000002330</td>\n",
              "      <td>The Songs of Adelaide &amp; Abullah</td>\n",
              "      <td>Poetry</td>\n",
              "      <td>Publishing</td>\n",
              "      <td>GBP</td>\n",
              "      <td>2015-10-09</td>\n",
              "      <td>1000.0</td>\n",
              "      <td>2015-08-11 12:12:28</td>\n",
              "      <td>0.0</td>\n",
              "      <td>failed</td>\n",
              "      <td>0</td>\n",
              "      <td>GB</td>\n",
              "      <td>0.0</td>\n",
              "      <td>0.0</td>\n",
              "      <td>1533.95</td>\n",
              "    </tr>\n",
              "    <tr>\n",
              "      <th>1</th>\n",
              "      <td>1000003930</td>\n",
              "      <td>Greeting From Earth: ZGAC Arts Capsule For ET</td>\n",
              "      <td>Narrative Film</td>\n",
              "      <td>Film &amp; Video</td>\n",
              "      <td>USD</td>\n",
              "      <td>2017-11-01</td>\n",
              "      <td>30000.0</td>\n",
              "      <td>2017-09-02 04:43:57</td>\n",
              "      <td>2421.0</td>\n",
              "      <td>failed</td>\n",
              "      <td>15</td>\n",
              "      <td>US</td>\n",
              "      <td>100.0</td>\n",
              "      <td>2421.0</td>\n",
              "      <td>30000.00</td>\n",
              "    </tr>\n",
              "    <tr>\n",
              "      <th>2</th>\n",
              "      <td>1000004038</td>\n",
              "      <td>Where is Hank?</td>\n",
              "      <td>Narrative Film</td>\n",
              "      <td>Film &amp; Video</td>\n",
              "      <td>USD</td>\n",
              "      <td>2013-02-26</td>\n",
              "      <td>45000.0</td>\n",
              "      <td>2013-01-12 00:20:50</td>\n",
              "      <td>220.0</td>\n",
              "      <td>failed</td>\n",
              "      <td>3</td>\n",
              "      <td>US</td>\n",
              "      <td>220.0</td>\n",
              "      <td>220.0</td>\n",
              "      <td>45000.00</td>\n",
              "    </tr>\n",
              "    <tr>\n",
              "      <th>3</th>\n",
              "      <td>1000007540</td>\n",
              "      <td>ToshiCapital Rekordz Needs Help to Complete Album</td>\n",
              "      <td>Music</td>\n",
              "      <td>Music</td>\n",
              "      <td>USD</td>\n",
              "      <td>2012-04-16</td>\n",
              "      <td>5000.0</td>\n",
              "      <td>2012-03-17 03:24:11</td>\n",
              "      <td>1.0</td>\n",
              "      <td>failed</td>\n",
              "      <td>1</td>\n",
              "      <td>US</td>\n",
              "      <td>1.0</td>\n",
              "      <td>1.0</td>\n",
              "      <td>5000.00</td>\n",
              "    </tr>\n",
              "    <tr>\n",
              "      <th>4</th>\n",
              "      <td>1000011046</td>\n",
              "      <td>Community Film Project: The Art of Neighborhoo...</td>\n",
              "      <td>Film &amp; Video</td>\n",
              "      <td>Film &amp; Video</td>\n",
              "      <td>USD</td>\n",
              "      <td>2015-08-29</td>\n",
              "      <td>19500.0</td>\n",
              "      <td>2015-07-04 08:35:03</td>\n",
              "      <td>1283.0</td>\n",
              "      <td>canceled</td>\n",
              "      <td>14</td>\n",
              "      <td>US</td>\n",
              "      <td>1283.0</td>\n",
              "      <td>1283.0</td>\n",
              "      <td>19500.00</td>\n",
              "    </tr>\n",
              "  </tbody>\n",
              "</table>\n",
              "</div>"
            ],
            "text/plain": [
              "           ID  ... usd_goal_real\n",
              "0  1000002330  ...       1533.95\n",
              "1  1000003930  ...      30000.00\n",
              "2  1000004038  ...      45000.00\n",
              "3  1000007540  ...       5000.00\n",
              "4  1000011046  ...      19500.00\n",
              "\n",
              "[5 rows x 15 columns]"
            ]
          },
          "metadata": {
            "tags": []
          },
          "execution_count": 78
        }
      ]
    },
    {
      "cell_type": "code",
      "metadata": {
        "colab": {
          "base_uri": "https://localhost:8080/"
        },
        "id": "4bQG_wU68tQH",
        "outputId": "897dccc3-65ef-4617-fa53-7a5b8791e390"
      },
      "source": [
        "df.columns"
      ],
      "execution_count": null,
      "outputs": [
        {
          "output_type": "execute_result",
          "data": {
            "text/plain": [
              "Index(['ID', 'name', 'category', 'main_category', 'currency', 'deadline',\n",
              "       'goal', 'launched', 'pledged', 'state', 'backers', 'country',\n",
              "       'usd pledged', 'usd_pledged_real', 'usd_goal_real'],\n",
              "      dtype='object')"
            ]
          },
          "metadata": {
            "tags": []
          },
          "execution_count": 79
        }
      ]
    },
    {
      "cell_type": "markdown",
      "metadata": {
        "id": "QBtvfTJ5u7ts"
      },
      "source": [
        "**Let's subtract deadline by launched time of project to calculate the duration of each project**\n",
        "---\n",
        "\n",
        "\n",
        "*   We'll add **duration** to the dataframe after the calculation is done!\n",
        "\n",
        "\n",
        "\n",
        "\n",
        "\n",
        "\n",
        "\n"
      ]
    },
    {
      "cell_type": "code",
      "metadata": {
        "id": "ZSp5QROKvD_x"
      },
      "source": [
        "df.launched = pd.to_datetime(df.launched)\n",
        "df.deadline = pd.to_datetime(df.deadline)\n",
        "df['duration'] = (df.deadline - df.launched).astype('timedelta64[h]')"
      ],
      "execution_count": null,
      "outputs": []
    },
    {
      "cell_type": "markdown",
      "metadata": {
        "id": "SGGm3Jqbm4u3"
      },
      "source": [
        "**Dropping useless columns, such as ID**"
      ]
    },
    {
      "cell_type": "code",
      "metadata": {
        "colab": {
          "base_uri": "https://localhost:8080/",
          "height": 909
        },
        "id": "JFncy2F682zs",
        "outputId": "1379a235-c4de-4a18-da56-d0b02d1ea711"
      },
      "source": [
        "df = df.drop(columns=['ID'])\n",
        "df"
      ],
      "execution_count": null,
      "outputs": [
        {
          "output_type": "execute_result",
          "data": {
            "text/html": [
              "<div>\n",
              "<style scoped>\n",
              "    .dataframe tbody tr th:only-of-type {\n",
              "        vertical-align: middle;\n",
              "    }\n",
              "\n",
              "    .dataframe tbody tr th {\n",
              "        vertical-align: top;\n",
              "    }\n",
              "\n",
              "    .dataframe thead th {\n",
              "        text-align: right;\n",
              "    }\n",
              "</style>\n",
              "<table border=\"1\" class=\"dataframe\">\n",
              "  <thead>\n",
              "    <tr style=\"text-align: right;\">\n",
              "      <th></th>\n",
              "      <th>name</th>\n",
              "      <th>category</th>\n",
              "      <th>main_category</th>\n",
              "      <th>currency</th>\n",
              "      <th>deadline</th>\n",
              "      <th>goal</th>\n",
              "      <th>launched</th>\n",
              "      <th>pledged</th>\n",
              "      <th>state</th>\n",
              "      <th>backers</th>\n",
              "      <th>country</th>\n",
              "      <th>usd pledged</th>\n",
              "      <th>usd_pledged_real</th>\n",
              "      <th>usd_goal_real</th>\n",
              "      <th>duration</th>\n",
              "    </tr>\n",
              "  </thead>\n",
              "  <tbody>\n",
              "    <tr>\n",
              "      <th>0</th>\n",
              "      <td>The Songs of Adelaide &amp; Abullah</td>\n",
              "      <td>Poetry</td>\n",
              "      <td>Publishing</td>\n",
              "      <td>GBP</td>\n",
              "      <td>2015-10-09</td>\n",
              "      <td>1000.0</td>\n",
              "      <td>2015-08-11 12:12:28</td>\n",
              "      <td>0.0</td>\n",
              "      <td>failed</td>\n",
              "      <td>0</td>\n",
              "      <td>GB</td>\n",
              "      <td>0.0</td>\n",
              "      <td>0.0</td>\n",
              "      <td>1533.95</td>\n",
              "      <td>1403.0</td>\n",
              "    </tr>\n",
              "    <tr>\n",
              "      <th>1</th>\n",
              "      <td>Greeting From Earth: ZGAC Arts Capsule For ET</td>\n",
              "      <td>Narrative Film</td>\n",
              "      <td>Film &amp; Video</td>\n",
              "      <td>USD</td>\n",
              "      <td>2017-11-01</td>\n",
              "      <td>30000.0</td>\n",
              "      <td>2017-09-02 04:43:57</td>\n",
              "      <td>2421.0</td>\n",
              "      <td>failed</td>\n",
              "      <td>15</td>\n",
              "      <td>US</td>\n",
              "      <td>100.0</td>\n",
              "      <td>2421.0</td>\n",
              "      <td>30000.00</td>\n",
              "      <td>1435.0</td>\n",
              "    </tr>\n",
              "    <tr>\n",
              "      <th>2</th>\n",
              "      <td>Where is Hank?</td>\n",
              "      <td>Narrative Film</td>\n",
              "      <td>Film &amp; Video</td>\n",
              "      <td>USD</td>\n",
              "      <td>2013-02-26</td>\n",
              "      <td>45000.0</td>\n",
              "      <td>2013-01-12 00:20:50</td>\n",
              "      <td>220.0</td>\n",
              "      <td>failed</td>\n",
              "      <td>3</td>\n",
              "      <td>US</td>\n",
              "      <td>220.0</td>\n",
              "      <td>220.0</td>\n",
              "      <td>45000.00</td>\n",
              "      <td>1079.0</td>\n",
              "    </tr>\n",
              "    <tr>\n",
              "      <th>3</th>\n",
              "      <td>ToshiCapital Rekordz Needs Help to Complete Album</td>\n",
              "      <td>Music</td>\n",
              "      <td>Music</td>\n",
              "      <td>USD</td>\n",
              "      <td>2012-04-16</td>\n",
              "      <td>5000.0</td>\n",
              "      <td>2012-03-17 03:24:11</td>\n",
              "      <td>1.0</td>\n",
              "      <td>failed</td>\n",
              "      <td>1</td>\n",
              "      <td>US</td>\n",
              "      <td>1.0</td>\n",
              "      <td>1.0</td>\n",
              "      <td>5000.00</td>\n",
              "      <td>716.0</td>\n",
              "    </tr>\n",
              "    <tr>\n",
              "      <th>4</th>\n",
              "      <td>Community Film Project: The Art of Neighborhoo...</td>\n",
              "      <td>Film &amp; Video</td>\n",
              "      <td>Film &amp; Video</td>\n",
              "      <td>USD</td>\n",
              "      <td>2015-08-29</td>\n",
              "      <td>19500.0</td>\n",
              "      <td>2015-07-04 08:35:03</td>\n",
              "      <td>1283.0</td>\n",
              "      <td>canceled</td>\n",
              "      <td>14</td>\n",
              "      <td>US</td>\n",
              "      <td>1283.0</td>\n",
              "      <td>1283.0</td>\n",
              "      <td>19500.00</td>\n",
              "      <td>1335.0</td>\n",
              "    </tr>\n",
              "    <tr>\n",
              "      <th>...</th>\n",
              "      <td>...</td>\n",
              "      <td>...</td>\n",
              "      <td>...</td>\n",
              "      <td>...</td>\n",
              "      <td>...</td>\n",
              "      <td>...</td>\n",
              "      <td>...</td>\n",
              "      <td>...</td>\n",
              "      <td>...</td>\n",
              "      <td>...</td>\n",
              "      <td>...</td>\n",
              "      <td>...</td>\n",
              "      <td>...</td>\n",
              "      <td>...</td>\n",
              "      <td>...</td>\n",
              "    </tr>\n",
              "    <tr>\n",
              "      <th>378656</th>\n",
              "      <td>ChknTruk Nationwide Charity Drive 2014 (Canceled)</td>\n",
              "      <td>Documentary</td>\n",
              "      <td>Film &amp; Video</td>\n",
              "      <td>USD</td>\n",
              "      <td>2014-10-17</td>\n",
              "      <td>50000.0</td>\n",
              "      <td>2014-09-17 02:35:30</td>\n",
              "      <td>25.0</td>\n",
              "      <td>canceled</td>\n",
              "      <td>1</td>\n",
              "      <td>US</td>\n",
              "      <td>25.0</td>\n",
              "      <td>25.0</td>\n",
              "      <td>50000.00</td>\n",
              "      <td>717.0</td>\n",
              "    </tr>\n",
              "    <tr>\n",
              "      <th>378657</th>\n",
              "      <td>The Tribe</td>\n",
              "      <td>Narrative Film</td>\n",
              "      <td>Film &amp; Video</td>\n",
              "      <td>USD</td>\n",
              "      <td>2011-07-19</td>\n",
              "      <td>1500.0</td>\n",
              "      <td>2011-06-22 03:35:14</td>\n",
              "      <td>155.0</td>\n",
              "      <td>failed</td>\n",
              "      <td>5</td>\n",
              "      <td>US</td>\n",
              "      <td>155.0</td>\n",
              "      <td>155.0</td>\n",
              "      <td>1500.00</td>\n",
              "      <td>644.0</td>\n",
              "    </tr>\n",
              "    <tr>\n",
              "      <th>378658</th>\n",
              "      <td>Walls of Remedy- New lesbian Romantic Comedy f...</td>\n",
              "      <td>Narrative Film</td>\n",
              "      <td>Film &amp; Video</td>\n",
              "      <td>USD</td>\n",
              "      <td>2010-08-16</td>\n",
              "      <td>15000.0</td>\n",
              "      <td>2010-07-01 19:40:30</td>\n",
              "      <td>20.0</td>\n",
              "      <td>failed</td>\n",
              "      <td>1</td>\n",
              "      <td>US</td>\n",
              "      <td>20.0</td>\n",
              "      <td>20.0</td>\n",
              "      <td>15000.00</td>\n",
              "      <td>1084.0</td>\n",
              "    </tr>\n",
              "    <tr>\n",
              "      <th>378659</th>\n",
              "      <td>BioDefense Education Kit</td>\n",
              "      <td>Technology</td>\n",
              "      <td>Technology</td>\n",
              "      <td>USD</td>\n",
              "      <td>2016-02-13</td>\n",
              "      <td>15000.0</td>\n",
              "      <td>2016-01-13 18:13:53</td>\n",
              "      <td>200.0</td>\n",
              "      <td>failed</td>\n",
              "      <td>6</td>\n",
              "      <td>US</td>\n",
              "      <td>200.0</td>\n",
              "      <td>200.0</td>\n",
              "      <td>15000.00</td>\n",
              "      <td>725.0</td>\n",
              "    </tr>\n",
              "    <tr>\n",
              "      <th>378660</th>\n",
              "      <td>Nou Renmen Ayiti!  We Love Haiti!</td>\n",
              "      <td>Performance Art</td>\n",
              "      <td>Art</td>\n",
              "      <td>USD</td>\n",
              "      <td>2011-08-16</td>\n",
              "      <td>2000.0</td>\n",
              "      <td>2011-07-19 09:07:47</td>\n",
              "      <td>524.0</td>\n",
              "      <td>failed</td>\n",
              "      <td>17</td>\n",
              "      <td>US</td>\n",
              "      <td>524.0</td>\n",
              "      <td>524.0</td>\n",
              "      <td>2000.00</td>\n",
              "      <td>662.0</td>\n",
              "    </tr>\n",
              "  </tbody>\n",
              "</table>\n",
              "<p>378661 rows × 15 columns</p>\n",
              "</div>"
            ],
            "text/plain": [
              "                                                     name  ... duration\n",
              "0                         The Songs of Adelaide & Abullah  ...   1403.0\n",
              "1           Greeting From Earth: ZGAC Arts Capsule For ET  ...   1435.0\n",
              "2                                          Where is Hank?  ...   1079.0\n",
              "3       ToshiCapital Rekordz Needs Help to Complete Album  ...    716.0\n",
              "4       Community Film Project: The Art of Neighborhoo...  ...   1335.0\n",
              "...                                                   ...  ...      ...\n",
              "378656  ChknTruk Nationwide Charity Drive 2014 (Canceled)  ...    717.0\n",
              "378657                                          The Tribe  ...    644.0\n",
              "378658  Walls of Remedy- New lesbian Romantic Comedy f...  ...   1084.0\n",
              "378659                           BioDefense Education Kit  ...    725.0\n",
              "378660                  Nou Renmen Ayiti!  We Love Haiti!  ...    662.0\n",
              "\n",
              "[378661 rows x 15 columns]"
            ]
          },
          "metadata": {
            "tags": []
          },
          "execution_count": 81
        }
      ]
    },
    {
      "cell_type": "markdown",
      "metadata": {
        "id": "JF06xzG3nGJ9"
      },
      "source": [
        "**Find columns that have null values**"
      ]
    },
    {
      "cell_type": "code",
      "metadata": {
        "colab": {
          "base_uri": "https://localhost:8080/"
        },
        "id": "2n3TVVjB9BhU",
        "outputId": "6c65a733-7a79-4445-f8d6-f548d53e28f3"
      },
      "source": [
        "df.isnull().sum()"
      ],
      "execution_count": null,
      "outputs": [
        {
          "output_type": "execute_result",
          "data": {
            "text/plain": [
              "name                   4\n",
              "category               0\n",
              "main_category          0\n",
              "currency               0\n",
              "deadline               0\n",
              "goal                   0\n",
              "launched               0\n",
              "pledged                0\n",
              "state                  0\n",
              "backers                0\n",
              "country                0\n",
              "usd pledged         3797\n",
              "usd_pledged_real       0\n",
              "usd_goal_real          0\n",
              "duration               0\n",
              "dtype: int64"
            ]
          },
          "metadata": {
            "tags": []
          },
          "execution_count": 82
        }
      ]
    },
    {
      "cell_type": "markdown",
      "metadata": {
        "id": "N_pgLERSqCXH"
      },
      "source": [
        "**Finding rows where they Do Not have project name**"
      ]
    },
    {
      "cell_type": "code",
      "metadata": {
        "colab": {
          "base_uri": "https://localhost:8080/",
          "height": 337
        },
        "id": "3vIKcBo79sxH",
        "outputId": "87c4dca2-0409-445c-b6e9-b14afab1cb6e"
      },
      "source": [
        "df[df['name'].isnull()]"
      ],
      "execution_count": null,
      "outputs": [
        {
          "output_type": "execute_result",
          "data": {
            "text/html": [
              "<div>\n",
              "<style scoped>\n",
              "    .dataframe tbody tr th:only-of-type {\n",
              "        vertical-align: middle;\n",
              "    }\n",
              "\n",
              "    .dataframe tbody tr th {\n",
              "        vertical-align: top;\n",
              "    }\n",
              "\n",
              "    .dataframe thead th {\n",
              "        text-align: right;\n",
              "    }\n",
              "</style>\n",
              "<table border=\"1\" class=\"dataframe\">\n",
              "  <thead>\n",
              "    <tr style=\"text-align: right;\">\n",
              "      <th></th>\n",
              "      <th>name</th>\n",
              "      <th>category</th>\n",
              "      <th>main_category</th>\n",
              "      <th>currency</th>\n",
              "      <th>deadline</th>\n",
              "      <th>goal</th>\n",
              "      <th>launched</th>\n",
              "      <th>pledged</th>\n",
              "      <th>state</th>\n",
              "      <th>backers</th>\n",
              "      <th>country</th>\n",
              "      <th>usd pledged</th>\n",
              "      <th>usd_pledged_real</th>\n",
              "      <th>usd_goal_real</th>\n",
              "      <th>duration</th>\n",
              "    </tr>\n",
              "  </thead>\n",
              "  <tbody>\n",
              "    <tr>\n",
              "      <th>166851</th>\n",
              "      <td>NaN</td>\n",
              "      <td>Narrative Film</td>\n",
              "      <td>Film &amp; Video</td>\n",
              "      <td>USD</td>\n",
              "      <td>2012-02-29</td>\n",
              "      <td>200000.0</td>\n",
              "      <td>2012-01-01 12:35:31</td>\n",
              "      <td>100.0</td>\n",
              "      <td>failed</td>\n",
              "      <td>1</td>\n",
              "      <td>US</td>\n",
              "      <td>100.00</td>\n",
              "      <td>100.00</td>\n",
              "      <td>200000.00</td>\n",
              "      <td>1403.0</td>\n",
              "    </tr>\n",
              "    <tr>\n",
              "      <th>307234</th>\n",
              "      <td>NaN</td>\n",
              "      <td>Video Games</td>\n",
              "      <td>Games</td>\n",
              "      <td>GBP</td>\n",
              "      <td>2013-01-06</td>\n",
              "      <td>2000.0</td>\n",
              "      <td>2012-12-19 23:57:48</td>\n",
              "      <td>196.0</td>\n",
              "      <td>failed</td>\n",
              "      <td>12</td>\n",
              "      <td>GB</td>\n",
              "      <td>317.73</td>\n",
              "      <td>316.05</td>\n",
              "      <td>3224.97</td>\n",
              "      <td>408.0</td>\n",
              "    </tr>\n",
              "    <tr>\n",
              "      <th>309991</th>\n",
              "      <td>NaN</td>\n",
              "      <td>Product Design</td>\n",
              "      <td>Design</td>\n",
              "      <td>USD</td>\n",
              "      <td>2016-07-18</td>\n",
              "      <td>2500.0</td>\n",
              "      <td>2016-06-18 05:01:47</td>\n",
              "      <td>0.0</td>\n",
              "      <td>suspended</td>\n",
              "      <td>0</td>\n",
              "      <td>US</td>\n",
              "      <td>0.00</td>\n",
              "      <td>0.00</td>\n",
              "      <td>2500.00</td>\n",
              "      <td>714.0</td>\n",
              "    </tr>\n",
              "    <tr>\n",
              "      <th>338931</th>\n",
              "      <td>NaN</td>\n",
              "      <td>Painting</td>\n",
              "      <td>Art</td>\n",
              "      <td>USD</td>\n",
              "      <td>2011-12-05</td>\n",
              "      <td>35000.0</td>\n",
              "      <td>2011-11-06 23:55:55</td>\n",
              "      <td>220.0</td>\n",
              "      <td>failed</td>\n",
              "      <td>5</td>\n",
              "      <td>US</td>\n",
              "      <td>220.00</td>\n",
              "      <td>220.00</td>\n",
              "      <td>35000.00</td>\n",
              "      <td>672.0</td>\n",
              "    </tr>\n",
              "  </tbody>\n",
              "</table>\n",
              "</div>"
            ],
            "text/plain": [
              "       name        category  ... usd_goal_real duration\n",
              "166851  NaN  Narrative Film  ...     200000.00   1403.0\n",
              "307234  NaN     Video Games  ...       3224.97    408.0\n",
              "309991  NaN  Product Design  ...       2500.00    714.0\n",
              "338931  NaN        Painting  ...      35000.00    672.0\n",
              "\n",
              "[4 rows x 15 columns]"
            ]
          },
          "metadata": {
            "tags": []
          },
          "execution_count": 83
        }
      ]
    },
    {
      "cell_type": "markdown",
      "metadata": {
        "id": "J6ZUpRk3_FZl"
      },
      "source": [
        "**Analyzing Columns with *No Name*:**\n",
        "\n",
        "1. 3 U.S. projects and 1 UK Project\n",
        "2. Projects with No Name most likely be failed or suspended. \n"
      ]
    },
    {
      "cell_type": "markdown",
      "metadata": {
        "id": "YNPa0_onqOGP"
      },
      "source": [
        "**Find rows where they Do Not have USD Pledge**"
      ]
    },
    {
      "cell_type": "code",
      "metadata": {
        "colab": {
          "base_uri": "https://localhost:8080/",
          "height": 791
        },
        "id": "-yU9lZ8iAoq4",
        "outputId": "32d465a0-72b9-4c78-cffd-51a7c9de5412"
      },
      "source": [
        "df[df['usd pledged'].isnull()]"
      ],
      "execution_count": null,
      "outputs": [
        {
          "output_type": "execute_result",
          "data": {
            "text/html": [
              "<div>\n",
              "<style scoped>\n",
              "    .dataframe tbody tr th:only-of-type {\n",
              "        vertical-align: middle;\n",
              "    }\n",
              "\n",
              "    .dataframe tbody tr th {\n",
              "        vertical-align: top;\n",
              "    }\n",
              "\n",
              "    .dataframe thead th {\n",
              "        text-align: right;\n",
              "    }\n",
              "</style>\n",
              "<table border=\"1\" class=\"dataframe\">\n",
              "  <thead>\n",
              "    <tr style=\"text-align: right;\">\n",
              "      <th></th>\n",
              "      <th>name</th>\n",
              "      <th>category</th>\n",
              "      <th>main_category</th>\n",
              "      <th>currency</th>\n",
              "      <th>deadline</th>\n",
              "      <th>goal</th>\n",
              "      <th>launched</th>\n",
              "      <th>pledged</th>\n",
              "      <th>state</th>\n",
              "      <th>backers</th>\n",
              "      <th>country</th>\n",
              "      <th>usd pledged</th>\n",
              "      <th>usd_pledged_real</th>\n",
              "      <th>usd_goal_real</th>\n",
              "      <th>duration</th>\n",
              "    </tr>\n",
              "  </thead>\n",
              "  <tbody>\n",
              "    <tr>\n",
              "      <th>169</th>\n",
              "      <td>STREETFIGHTERZ WHEELIE MURICA</td>\n",
              "      <td>Film &amp; Video</td>\n",
              "      <td>Film &amp; Video</td>\n",
              "      <td>USD</td>\n",
              "      <td>2014-09-20</td>\n",
              "      <td>6500.0</td>\n",
              "      <td>2014-08-06 21:28:36</td>\n",
              "      <td>555.00</td>\n",
              "      <td>undefined</td>\n",
              "      <td>0</td>\n",
              "      <td>N,0\"</td>\n",
              "      <td>NaN</td>\n",
              "      <td>555.00</td>\n",
              "      <td>6500.00</td>\n",
              "      <td>1058.0</td>\n",
              "    </tr>\n",
              "    <tr>\n",
              "      <th>328</th>\n",
              "      <td>Duncan Woods - Chameleon EP</td>\n",
              "      <td>Music</td>\n",
              "      <td>Music</td>\n",
              "      <td>AUD</td>\n",
              "      <td>2015-08-25</td>\n",
              "      <td>4500.0</td>\n",
              "      <td>2015-08-04 12:05:17</td>\n",
              "      <td>4767.00</td>\n",
              "      <td>undefined</td>\n",
              "      <td>0</td>\n",
              "      <td>N,0\"</td>\n",
              "      <td>NaN</td>\n",
              "      <td>3402.08</td>\n",
              "      <td>3211.53</td>\n",
              "      <td>491.0</td>\n",
              "    </tr>\n",
              "    <tr>\n",
              "      <th>632</th>\n",
              "      <td>The Making of Ashley Kelley's Debut Album</td>\n",
              "      <td>Music</td>\n",
              "      <td>Music</td>\n",
              "      <td>USD</td>\n",
              "      <td>2015-04-09</td>\n",
              "      <td>3500.0</td>\n",
              "      <td>2015-03-10 20:06:13</td>\n",
              "      <td>3576.00</td>\n",
              "      <td>undefined</td>\n",
              "      <td>0</td>\n",
              "      <td>N,0\"</td>\n",
              "      <td>NaN</td>\n",
              "      <td>3576.00</td>\n",
              "      <td>3500.00</td>\n",
              "      <td>699.0</td>\n",
              "    </tr>\n",
              "    <tr>\n",
              "      <th>647</th>\n",
              "      <td>Butter Side Down Debut Album</td>\n",
              "      <td>Music</td>\n",
              "      <td>Music</td>\n",
              "      <td>USD</td>\n",
              "      <td>2015-11-26</td>\n",
              "      <td>6000.0</td>\n",
              "      <td>2015-11-02 22:09:19</td>\n",
              "      <td>7007.80</td>\n",
              "      <td>undefined</td>\n",
              "      <td>0</td>\n",
              "      <td>N,0\"</td>\n",
              "      <td>NaN</td>\n",
              "      <td>7007.80</td>\n",
              "      <td>6000.00</td>\n",
              "      <td>553.0</td>\n",
              "    </tr>\n",
              "    <tr>\n",
              "      <th>749</th>\n",
              "      <td>Chase Goehring debut EP</td>\n",
              "      <td>Music</td>\n",
              "      <td>Music</td>\n",
              "      <td>USD</td>\n",
              "      <td>2016-03-21</td>\n",
              "      <td>3000.0</td>\n",
              "      <td>2016-02-23 03:09:49</td>\n",
              "      <td>3660.38</td>\n",
              "      <td>undefined</td>\n",
              "      <td>0</td>\n",
              "      <td>N,0\"</td>\n",
              "      <td>NaN</td>\n",
              "      <td>3660.38</td>\n",
              "      <td>3000.00</td>\n",
              "      <td>644.0</td>\n",
              "    </tr>\n",
              "    <tr>\n",
              "      <th>...</th>\n",
              "      <td>...</td>\n",
              "      <td>...</td>\n",
              "      <td>...</td>\n",
              "      <td>...</td>\n",
              "      <td>...</td>\n",
              "      <td>...</td>\n",
              "      <td>...</td>\n",
              "      <td>...</td>\n",
              "      <td>...</td>\n",
              "      <td>...</td>\n",
              "      <td>...</td>\n",
              "      <td>...</td>\n",
              "      <td>...</td>\n",
              "      <td>...</td>\n",
              "      <td>...</td>\n",
              "    </tr>\n",
              "    <tr>\n",
              "      <th>378233</th>\n",
              "      <td>EQUUS International Film Festival®, all-equine...</td>\n",
              "      <td>Film &amp; Video</td>\n",
              "      <td>Film &amp; Video</td>\n",
              "      <td>USD</td>\n",
              "      <td>2015-02-03</td>\n",
              "      <td>7500.0</td>\n",
              "      <td>2014-12-05 04:19:14</td>\n",
              "      <td>10.00</td>\n",
              "      <td>undefined</td>\n",
              "      <td>0</td>\n",
              "      <td>N,0\"</td>\n",
              "      <td>NaN</td>\n",
              "      <td>10.00</td>\n",
              "      <td>7500.00</td>\n",
              "      <td>1435.0</td>\n",
              "    </tr>\n",
              "    <tr>\n",
              "      <th>378303</th>\n",
              "      <td>Emily 2050 - Short Film</td>\n",
              "      <td>Film &amp; Video</td>\n",
              "      <td>Film &amp; Video</td>\n",
              "      <td>CAD</td>\n",
              "      <td>2014-05-23</td>\n",
              "      <td>3000.0</td>\n",
              "      <td>2014-04-08 00:30:09</td>\n",
              "      <td>3102.00</td>\n",
              "      <td>undefined</td>\n",
              "      <td>0</td>\n",
              "      <td>N,0\"</td>\n",
              "      <td>NaN</td>\n",
              "      <td>2845.61</td>\n",
              "      <td>2752.04</td>\n",
              "      <td>1079.0</td>\n",
              "    </tr>\n",
              "    <tr>\n",
              "      <th>378434</th>\n",
              "      <td>Matthew Stephens Music</td>\n",
              "      <td>Music</td>\n",
              "      <td>Music</td>\n",
              "      <td>USD</td>\n",
              "      <td>2016-02-05</td>\n",
              "      <td>5000.0</td>\n",
              "      <td>2016-01-06 21:59:23</td>\n",
              "      <td>235.00</td>\n",
              "      <td>undefined</td>\n",
              "      <td>0</td>\n",
              "      <td>N,0\"</td>\n",
              "      <td>NaN</td>\n",
              "      <td>235.00</td>\n",
              "      <td>5000.00</td>\n",
              "      <td>698.0</td>\n",
              "    </tr>\n",
              "    <tr>\n",
              "      <th>378585</th>\n",
              "      <td>Lady Vendredi: Afrofuturist concept 12 inch EP</td>\n",
              "      <td>Music</td>\n",
              "      <td>Music</td>\n",
              "      <td>GBP</td>\n",
              "      <td>2015-10-19</td>\n",
              "      <td>2000.0</td>\n",
              "      <td>2015-09-21 22:33:18</td>\n",
              "      <td>2125.00</td>\n",
              "      <td>undefined</td>\n",
              "      <td>0</td>\n",
              "      <td>N,0\"</td>\n",
              "      <td>NaN</td>\n",
              "      <td>3273.36</td>\n",
              "      <td>3080.81</td>\n",
              "      <td>649.0</td>\n",
              "    </tr>\n",
              "    <tr>\n",
              "      <th>378588</th>\n",
              "      <td>Jeune auteur a besoin de vous!</td>\n",
              "      <td>Publishing</td>\n",
              "      <td>Publishing</td>\n",
              "      <td>EUR</td>\n",
              "      <td>2015-11-20</td>\n",
              "      <td>1600.0</td>\n",
              "      <td>2015-10-21 21:28:13</td>\n",
              "      <td>0.00</td>\n",
              "      <td>undefined</td>\n",
              "      <td>0</td>\n",
              "      <td>N,0\"</td>\n",
              "      <td>NaN</td>\n",
              "      <td>0.00</td>\n",
              "      <td>1710.08</td>\n",
              "      <td>698.0</td>\n",
              "    </tr>\n",
              "  </tbody>\n",
              "</table>\n",
              "<p>3797 rows × 15 columns</p>\n",
              "</div>"
            ],
            "text/plain": [
              "                                                     name  ... duration\n",
              "169                         STREETFIGHTERZ WHEELIE MURICA  ...   1058.0\n",
              "328                           Duncan Woods - Chameleon EP  ...    491.0\n",
              "632             The Making of Ashley Kelley's Debut Album  ...    699.0\n",
              "647                          Butter Side Down Debut Album  ...    553.0\n",
              "749                               Chase Goehring debut EP  ...    644.0\n",
              "...                                                   ...  ...      ...\n",
              "378233  EQUUS International Film Festival®, all-equine...  ...   1435.0\n",
              "378303                            Emily 2050 - Short Film  ...   1079.0\n",
              "378434                             Matthew Stephens Music  ...    698.0\n",
              "378585     Lady Vendredi: Afrofuturist concept 12 inch EP  ...    649.0\n",
              "378588                     Jeune auteur a besoin de vous!  ...    698.0\n",
              "\n",
              "[3797 rows x 15 columns]"
            ]
          },
          "metadata": {
            "tags": []
          },
          "execution_count": 84
        }
      ]
    },
    {
      "cell_type": "markdown",
      "metadata": {
        "id": "LgjVKxJtBUE0"
      },
      "source": [
        "**Analyzing Columns with *Non USD Pledge*:**\n",
        "\n",
        "\n",
        "Rows with no value for **usd pledged** are not usable because we can not determine the state of the project without knowing how much money are being pledged."
      ]
    },
    {
      "cell_type": "markdown",
      "metadata": {
        "id": "6MSngqwvqbsC"
      },
      "source": [
        "**Dropping rows from the dataframe where they are *NULL***"
      ]
    },
    {
      "cell_type": "code",
      "metadata": {
        "colab": {
          "base_uri": "https://localhost:8080/"
        },
        "id": "Chydgw0V_ETd",
        "outputId": "4a50066d-dece-48eb-95d3-67f0c9a2e22a"
      },
      "source": [
        "df = df.dropna()\n",
        "df.isnull().sum()"
      ],
      "execution_count": null,
      "outputs": [
        {
          "output_type": "execute_result",
          "data": {
            "text/plain": [
              "name                0\n",
              "category            0\n",
              "main_category       0\n",
              "currency            0\n",
              "deadline            0\n",
              "goal                0\n",
              "launched            0\n",
              "pledged             0\n",
              "state               0\n",
              "backers             0\n",
              "country             0\n",
              "usd pledged         0\n",
              "usd_pledged_real    0\n",
              "usd_goal_real       0\n",
              "duration            0\n",
              "dtype: int64"
            ]
          },
          "metadata": {
            "tags": []
          },
          "execution_count": 85
        }
      ]
    },
    {
      "cell_type": "markdown",
      "metadata": {
        "id": "9hiooKwcq2AQ"
      },
      "source": [
        "**Counting the number of projects for each county**"
      ]
    },
    {
      "cell_type": "code",
      "metadata": {
        "colab": {
          "base_uri": "https://localhost:8080/"
        },
        "id": "-CpN2WicCDut",
        "outputId": "c9171d44-730e-43ff-b1e6-e7ec5d3426df"
      },
      "source": [
        "df.country.value_counts()"
      ],
      "execution_count": null,
      "outputs": [
        {
          "output_type": "execute_result",
          "data": {
            "text/plain": [
              "US    292624\n",
              "GB     33671\n",
              "CA     14756\n",
              "AU      7839\n",
              "DE      4171\n",
              "FR      2939\n",
              "IT      2878\n",
              "NL      2868\n",
              "ES      2276\n",
              "SE      1757\n",
              "MX      1752\n",
              "NZ      1447\n",
              "DK      1113\n",
              "IE       811\n",
              "CH       761\n",
              "NO       708\n",
              "HK       618\n",
              "BE       617\n",
              "AT       597\n",
              "SG       555\n",
              "LU        62\n",
              "JP        40\n",
              "Name: country, dtype: int64"
            ]
          },
          "metadata": {
            "tags": []
          },
          "execution_count": 86
        }
      ]
    },
    {
      "cell_type": "code",
      "metadata": {
        "colab": {
          "base_uri": "https://localhost:8080/"
        },
        "id": "F8vFOtk7C4gU",
        "outputId": "cf3ae18c-07e4-4ac3-d3b7-ef4612969dcb"
      },
      "source": [
        "(df['country'].values == 'US').sum()"
      ],
      "execution_count": null,
      "outputs": [
        {
          "output_type": "execute_result",
          "data": {
            "text/plain": [
              "292624"
            ]
          },
          "metadata": {
            "tags": []
          },
          "execution_count": 87
        }
      ]
    },
    {
      "cell_type": "markdown",
      "metadata": {
        "id": "hLRQpDUPrCmN"
      },
      "source": [
        "### **How many of the Kickstarter projects are from the U.S.?**"
      ]
    },
    {
      "cell_type": "code",
      "metadata": {
        "colab": {
          "base_uri": "https://localhost:8080/"
        },
        "id": "Gc1JtZT9DIns",
        "outputId": "01a7af4f-1ff9-4249-d1a5-62b02913da82"
      },
      "source": [
        "us_per = (df['country'].values == 'US').sum() / df.country.value_counts().sum()\n",
        "print(\"US's kickstarter constitutes about \" + str(\"%0.2f\" % (us_per * 100)) + \"% of all kickstarter project\")"
      ],
      "execution_count": null,
      "outputs": [
        {
          "output_type": "stream",
          "text": [
            "US's kickstarter constitutes about 78.06% of all kickstarter project\n"
          ],
          "name": "stdout"
        }
      ]
    },
    {
      "cell_type": "markdown",
      "metadata": {
        "id": "ZCNtJHHwrsOb"
      },
      "source": [
        "**Function to display percentage on plot**"
      ]
    },
    {
      "cell_type": "code",
      "metadata": {
        "id": "FrG_OfVKKzj0"
      },
      "source": [
        "def percent_plot(data, title):\n",
        "    ax = data.plot(kind='bar')\n",
        "    plt.title(title)\n",
        "    ax.yaxis.set_major_formatter(PercentFormatter())\n",
        "    plt.show();"
      ],
      "execution_count": null,
      "outputs": []
    },
    {
      "cell_type": "markdown",
      "metadata": {
        "id": "XPEsDlqDr_MD"
      },
      "source": [
        "**Display each country and number of its project on Kickstarter**"
      ]
    },
    {
      "cell_type": "code",
      "metadata": {
        "colab": {
          "base_uri": "https://localhost:8080/",
          "height": 287
        },
        "id": "E-fsmY86PGlJ",
        "outputId": "6f0a5a6a-1d61-42b7-deb4-55876175390e"
      },
      "source": [
        "percent_plot((df.country.value_counts()/df.country.value_counts().sum()*100), \"Kickstarter Rate for Each Country\")"
      ],
      "execution_count": null,
      "outputs": [
        {
          "output_type": "display_data",
          "data": {
            "image/png": "[encoded data removed]",
            "text/plain": [
              "<Figure size 432x288 with 1 Axes>"
            ]
          },
          "metadata": {
            "tags": [],
            "needs_background": "light"
          }
        }
      ]
    },
    {
      "cell_type": "markdown",
      "metadata": {
        "id": "qfiEf2jhEeDI"
      },
      "source": [
        "Result: The U.S. has the most project compared to other countries. Therefore, we will work on US based kickstarter projects\n",
        "\n",
        "\n",
        "---\n",
        "\n",
        "**Extracting data where projects are based in the U.S. :**\n",
        "\n"
      ]
    },
    {
      "cell_type": "code",
      "metadata": {
        "id": "to3ibXbiEFbJ",
        "colab": {
          "base_uri": "https://localhost:8080/",
          "height": 909
        },
        "outputId": "d3d2f3bc-6c35-44d3-b1b3-0f60eac8241c"
      },
      "source": [
        "df = df.loc[df['country'] == 'US']\n",
        "\n",
        "df"
      ],
      "execution_count": null,
      "outputs": [
        {
          "output_type": "execute_result",
          "data": {
            "text/html": [
              "<div>\n",
              "<style scoped>\n",
              "    .dataframe tbody tr th:only-of-type {\n",
              "        vertical-align: middle;\n",
              "    }\n",
              "\n",
              "    .dataframe tbody tr th {\n",
              "        vertical-align: top;\n",
              "    }\n",
              "\n",
              "    .dataframe thead th {\n",
              "        text-align: right;\n",
              "    }\n",
              "</style>\n",
              "<table border=\"1\" class=\"dataframe\">\n",
              "  <thead>\n",
              "    <tr style=\"text-align: right;\">\n",
              "      <th></th>\n",
              "      <th>name</th>\n",
              "      <th>category</th>\n",
              "      <th>main_category</th>\n",
              "      <th>currency</th>\n",
              "      <th>deadline</th>\n",
              "      <th>goal</th>\n",
              "      <th>launched</th>\n",
              "      <th>pledged</th>\n",
              "      <th>state</th>\n",
              "      <th>backers</th>\n",
              "      <th>country</th>\n",
              "      <th>usd pledged</th>\n",
              "      <th>usd_pledged_real</th>\n",
              "      <th>usd_goal_real</th>\n",
              "      <th>duration</th>\n",
              "    </tr>\n",
              "  </thead>\n",
              "  <tbody>\n",
              "    <tr>\n",
              "      <th>1</th>\n",
              "      <td>Greeting From Earth: ZGAC Arts Capsule For ET</td>\n",
              "      <td>Narrative Film</td>\n",
              "      <td>Film &amp; Video</td>\n",
              "      <td>USD</td>\n",
              "      <td>2017-11-01</td>\n",
              "      <td>30000.0</td>\n",
              "      <td>2017-09-02 04:43:57</td>\n",
              "      <td>2421.0</td>\n",
              "      <td>failed</td>\n",
              "      <td>15</td>\n",
              "      <td>US</td>\n",
              "      <td>100.0</td>\n",
              "      <td>2421.0</td>\n",
              "      <td>30000.0</td>\n",
              "      <td>1435.0</td>\n",
              "    </tr>\n",
              "    <tr>\n",
              "      <th>2</th>\n",
              "      <td>Where is Hank?</td>\n",
              "      <td>Narrative Film</td>\n",
              "      <td>Film &amp; Video</td>\n",
              "      <td>USD</td>\n",
              "      <td>2013-02-26</td>\n",
              "      <td>45000.0</td>\n",
              "      <td>2013-01-12 00:20:50</td>\n",
              "      <td>220.0</td>\n",
              "      <td>failed</td>\n",
              "      <td>3</td>\n",
              "      <td>US</td>\n",
              "      <td>220.0</td>\n",
              "      <td>220.0</td>\n",
              "      <td>45000.0</td>\n",
              "      <td>1079.0</td>\n",
              "    </tr>\n",
              "    <tr>\n",
              "      <th>3</th>\n",
              "      <td>ToshiCapital Rekordz Needs Help to Complete Album</td>\n",
              "      <td>Music</td>\n",
              "      <td>Music</td>\n",
              "      <td>USD</td>\n",
              "      <td>2012-04-16</td>\n",
              "      <td>5000.0</td>\n",
              "      <td>2012-03-17 03:24:11</td>\n",
              "      <td>1.0</td>\n",
              "      <td>failed</td>\n",
              "      <td>1</td>\n",
              "      <td>US</td>\n",
              "      <td>1.0</td>\n",
              "      <td>1.0</td>\n",
              "      <td>5000.0</td>\n",
              "      <td>716.0</td>\n",
              "    </tr>\n",
              "    <tr>\n",
              "      <th>4</th>\n",
              "      <td>Community Film Project: The Art of Neighborhoo...</td>\n",
              "      <td>Film &amp; Video</td>\n",
              "      <td>Film &amp; Video</td>\n",
              "      <td>USD</td>\n",
              "      <td>2015-08-29</td>\n",
              "      <td>19500.0</td>\n",
              "      <td>2015-07-04 08:35:03</td>\n",
              "      <td>1283.0</td>\n",
              "      <td>canceled</td>\n",
              "      <td>14</td>\n",
              "      <td>US</td>\n",
              "      <td>1283.0</td>\n",
              "      <td>1283.0</td>\n",
              "      <td>19500.0</td>\n",
              "      <td>1335.0</td>\n",
              "    </tr>\n",
              "    <tr>\n",
              "      <th>5</th>\n",
              "      <td>Monarch Espresso Bar</td>\n",
              "      <td>Restaurants</td>\n",
              "      <td>Food</td>\n",
              "      <td>USD</td>\n",
              "      <td>2016-04-01</td>\n",
              "      <td>50000.0</td>\n",
              "      <td>2016-02-26 13:38:27</td>\n",
              "      <td>52375.0</td>\n",
              "      <td>successful</td>\n",
              "      <td>224</td>\n",
              "      <td>US</td>\n",
              "      <td>52375.0</td>\n",
              "      <td>52375.0</td>\n",
              "      <td>50000.0</td>\n",
              "      <td>826.0</td>\n",
              "    </tr>\n",
              "    <tr>\n",
              "      <th>...</th>\n",
              "      <td>...</td>\n",
              "      <td>...</td>\n",
              "      <td>...</td>\n",
              "      <td>...</td>\n",
              "      <td>...</td>\n",
              "      <td>...</td>\n",
              "      <td>...</td>\n",
              "      <td>...</td>\n",
              "      <td>...</td>\n",
              "      <td>...</td>\n",
              "      <td>...</td>\n",
              "      <td>...</td>\n",
              "      <td>...</td>\n",
              "      <td>...</td>\n",
              "      <td>...</td>\n",
              "    </tr>\n",
              "    <tr>\n",
              "      <th>378656</th>\n",
              "      <td>ChknTruk Nationwide Charity Drive 2014 (Canceled)</td>\n",
              "      <td>Documentary</td>\n",
              "      <td>Film &amp; Video</td>\n",
              "      <td>USD</td>\n",
              "      <td>2014-10-17</td>\n",
              "      <td>50000.0</td>\n",
              "      <td>2014-09-17 02:35:30</td>\n",
              "      <td>25.0</td>\n",
              "      <td>canceled</td>\n",
              "      <td>1</td>\n",
              "      <td>US</td>\n",
              "      <td>25.0</td>\n",
              "      <td>25.0</td>\n",
              "      <td>50000.0</td>\n",
              "      <td>717.0</td>\n",
              "    </tr>\n",
              "    <tr>\n",
              "      <th>378657</th>\n",
              "      <td>The Tribe</td>\n",
              "      <td>Narrative Film</td>\n",
              "      <td>Film &amp; Video</td>\n",
              "      <td>USD</td>\n",
              "      <td>2011-07-19</td>\n",
              "      <td>1500.0</td>\n",
              "      <td>2011-06-22 03:35:14</td>\n",
              "      <td>155.0</td>\n",
              "      <td>failed</td>\n",
              "      <td>5</td>\n",
              "      <td>US</td>\n",
              "      <td>155.0</td>\n",
              "      <td>155.0</td>\n",
              "      <td>1500.0</td>\n",
              "      <td>644.0</td>\n",
              "    </tr>\n",
              "    <tr>\n",
              "      <th>378658</th>\n",
              "      <td>Walls of Remedy- New lesbian Romantic Comedy f...</td>\n",
              "      <td>Narrative Film</td>\n",
              "      <td>Film &amp; Video</td>\n",
              "      <td>USD</td>\n",
              "      <td>2010-08-16</td>\n",
              "      <td>15000.0</td>\n",
              "      <td>2010-07-01 19:40:30</td>\n",
              "      <td>20.0</td>\n",
              "      <td>failed</td>\n",
              "      <td>1</td>\n",
              "      <td>US</td>\n",
              "      <td>20.0</td>\n",
              "      <td>20.0</td>\n",
              "      <td>15000.0</td>\n",
              "      <td>1084.0</td>\n",
              "    </tr>\n",
              "    <tr>\n",
              "      <th>378659</th>\n",
              "      <td>BioDefense Education Kit</td>\n",
              "      <td>Technology</td>\n",
              "      <td>Technology</td>\n",
              "      <td>USD</td>\n",
              "      <td>2016-02-13</td>\n",
              "      <td>15000.0</td>\n",
              "      <td>2016-01-13 18:13:53</td>\n",
              "      <td>200.0</td>\n",
              "      <td>failed</td>\n",
              "      <td>6</td>\n",
              "      <td>US</td>\n",
              "      <td>200.0</td>\n",
              "      <td>200.0</td>\n",
              "      <td>15000.0</td>\n",
              "      <td>725.0</td>\n",
              "    </tr>\n",
              "    <tr>\n",
              "      <th>378660</th>\n",
              "      <td>Nou Renmen Ayiti!  We Love Haiti!</td>\n",
              "      <td>Performance Art</td>\n",
              "      <td>Art</td>\n",
              "      <td>USD</td>\n",
              "      <td>2011-08-16</td>\n",
              "      <td>2000.0</td>\n",
              "      <td>2011-07-19 09:07:47</td>\n",
              "      <td>524.0</td>\n",
              "      <td>failed</td>\n",
              "      <td>17</td>\n",
              "      <td>US</td>\n",
              "      <td>524.0</td>\n",
              "      <td>524.0</td>\n",
              "      <td>2000.0</td>\n",
              "      <td>662.0</td>\n",
              "    </tr>\n",
              "  </tbody>\n",
              "</table>\n",
              "<p>292624 rows × 15 columns</p>\n",
              "</div>"
            ],
            "text/plain": [
              "                                                     name  ... duration\n",
              "1           Greeting From Earth: ZGAC Arts Capsule For ET  ...   1435.0\n",
              "2                                          Where is Hank?  ...   1079.0\n",
              "3       ToshiCapital Rekordz Needs Help to Complete Album  ...    716.0\n",
              "4       Community Film Project: The Art of Neighborhoo...  ...   1335.0\n",
              "5                                    Monarch Espresso Bar  ...    826.0\n",
              "...                                                   ...  ...      ...\n",
              "378656  ChknTruk Nationwide Charity Drive 2014 (Canceled)  ...    717.0\n",
              "378657                                          The Tribe  ...    644.0\n",
              "378658  Walls of Remedy- New lesbian Romantic Comedy f...  ...   1084.0\n",
              "378659                           BioDefense Education Kit  ...    725.0\n",
              "378660                  Nou Renmen Ayiti!  We Love Haiti!  ...    662.0\n",
              "\n",
              "[292624 rows x 15 columns]"
            ]
          },
          "metadata": {
            "tags": []
          },
          "execution_count": 91
        }
      ]
    },
    {
      "cell_type": "markdown",
      "metadata": {
        "id": "Qum9EYYpL18X"
      },
      "source": [
        "**Removing Unnecessary Columns**\n",
        "\n",
        "**USD Pledge:** Since this feature ONLY indicates the amount of money that has been funded in the USD and we are only working on U.S. projects, we don't need this features as we already have the same amount in **Pledge**\n",
        "\n",
        "**usd_pledged_real:** We don't need this feature because we we already know we are only working on project in the U.S.\n",
        "\n",
        "**usd_goal_real:** It's always equal to goal since we are ONLY working on project based in the U.S.\n",
        "\n"
      ]
    },
    {
      "cell_type": "code",
      "metadata": {
        "id": "HEzeQQq0LDbr",
        "colab": {
          "base_uri": "https://localhost:8080/",
          "height": 704
        },
        "outputId": "ad6e13d6-94dd-4b90-e2b5-c9c56e7eb26b"
      },
      "source": [
        "df = df.drop(columns=['usd pledged', 'usd_pledged_real', 'usd_goal_real'])\n",
        "df"
      ],
      "execution_count": null,
      "outputs": [
        {
          "output_type": "execute_result",
          "data": {
            "text/html": [
              "<div>\n",
              "<style scoped>\n",
              "    .dataframe tbody tr th:only-of-type {\n",
              "        vertical-align: middle;\n",
              "    }\n",
              "\n",
              "    .dataframe tbody tr th {\n",
              "        vertical-align: top;\n",
              "    }\n",
              "\n",
              "    .dataframe thead th {\n",
              "        text-align: right;\n",
              "    }\n",
              "</style>\n",
              "<table border=\"1\" class=\"dataframe\">\n",
              "  <thead>\n",
              "    <tr style=\"text-align: right;\">\n",
              "      <th></th>\n",
              "      <th>name</th>\n",
              "      <th>category</th>\n",
              "      <th>main_category</th>\n",
              "      <th>currency</th>\n",
              "      <th>deadline</th>\n",
              "      <th>goal</th>\n",
              "      <th>launched</th>\n",
              "      <th>pledged</th>\n",
              "      <th>state</th>\n",
              "      <th>backers</th>\n",
              "      <th>country</th>\n",
              "      <th>duration</th>\n",
              "    </tr>\n",
              "  </thead>\n",
              "  <tbody>\n",
              "    <tr>\n",
              "      <th>1</th>\n",
              "      <td>Greeting From Earth: ZGAC Arts Capsule For ET</td>\n",
              "      <td>Narrative Film</td>\n",
              "      <td>Film &amp; Video</td>\n",
              "      <td>USD</td>\n",
              "      <td>2017-11-01</td>\n",
              "      <td>30000.0</td>\n",
              "      <td>2017-09-02 04:43:57</td>\n",
              "      <td>2421.0</td>\n",
              "      <td>failed</td>\n",
              "      <td>15</td>\n",
              "      <td>US</td>\n",
              "      <td>1435.0</td>\n",
              "    </tr>\n",
              "    <tr>\n",
              "      <th>2</th>\n",
              "      <td>Where is Hank?</td>\n",
              "      <td>Narrative Film</td>\n",
              "      <td>Film &amp; Video</td>\n",
              "      <td>USD</td>\n",
              "      <td>2013-02-26</td>\n",
              "      <td>45000.0</td>\n",
              "      <td>2013-01-12 00:20:50</td>\n",
              "      <td>220.0</td>\n",
              "      <td>failed</td>\n",
              "      <td>3</td>\n",
              "      <td>US</td>\n",
              "      <td>1079.0</td>\n",
              "    </tr>\n",
              "    <tr>\n",
              "      <th>3</th>\n",
              "      <td>ToshiCapital Rekordz Needs Help to Complete Album</td>\n",
              "      <td>Music</td>\n",
              "      <td>Music</td>\n",
              "      <td>USD</td>\n",
              "      <td>2012-04-16</td>\n",
              "      <td>5000.0</td>\n",
              "      <td>2012-03-17 03:24:11</td>\n",
              "      <td>1.0</td>\n",
              "      <td>failed</td>\n",
              "      <td>1</td>\n",
              "      <td>US</td>\n",
              "      <td>716.0</td>\n",
              "    </tr>\n",
              "    <tr>\n",
              "      <th>4</th>\n",
              "      <td>Community Film Project: The Art of Neighborhoo...</td>\n",
              "      <td>Film &amp; Video</td>\n",
              "      <td>Film &amp; Video</td>\n",
              "      <td>USD</td>\n",
              "      <td>2015-08-29</td>\n",
              "      <td>19500.0</td>\n",
              "      <td>2015-07-04 08:35:03</td>\n",
              "      <td>1283.0</td>\n",
              "      <td>canceled</td>\n",
              "      <td>14</td>\n",
              "      <td>US</td>\n",
              "      <td>1335.0</td>\n",
              "    </tr>\n",
              "    <tr>\n",
              "      <th>5</th>\n",
              "      <td>Monarch Espresso Bar</td>\n",
              "      <td>Restaurants</td>\n",
              "      <td>Food</td>\n",
              "      <td>USD</td>\n",
              "      <td>2016-04-01</td>\n",
              "      <td>50000.0</td>\n",
              "      <td>2016-02-26 13:38:27</td>\n",
              "      <td>52375.0</td>\n",
              "      <td>successful</td>\n",
              "      <td>224</td>\n",
              "      <td>US</td>\n",
              "      <td>826.0</td>\n",
              "    </tr>\n",
              "    <tr>\n",
              "      <th>...</th>\n",
              "      <td>...</td>\n",
              "      <td>...</td>\n",
              "      <td>...</td>\n",
              "      <td>...</td>\n",
              "      <td>...</td>\n",
              "      <td>...</td>\n",
              "      <td>...</td>\n",
              "      <td>...</td>\n",
              "      <td>...</td>\n",
              "      <td>...</td>\n",
              "      <td>...</td>\n",
              "      <td>...</td>\n",
              "    </tr>\n",
              "    <tr>\n",
              "      <th>378656</th>\n",
              "      <td>ChknTruk Nationwide Charity Drive 2014 (Canceled)</td>\n",
              "      <td>Documentary</td>\n",
              "      <td>Film &amp; Video</td>\n",
              "      <td>USD</td>\n",
              "      <td>2014-10-17</td>\n",
              "      <td>50000.0</td>\n",
              "      <td>2014-09-17 02:35:30</td>\n",
              "      <td>25.0</td>\n",
              "      <td>canceled</td>\n",
              "      <td>1</td>\n",
              "      <td>US</td>\n",
              "      <td>717.0</td>\n",
              "    </tr>\n",
              "    <tr>\n",
              "      <th>378657</th>\n",
              "      <td>The Tribe</td>\n",
              "      <td>Narrative Film</td>\n",
              "      <td>Film &amp; Video</td>\n",
              "      <td>USD</td>\n",
              "      <td>2011-07-19</td>\n",
              "      <td>1500.0</td>\n",
              "      <td>2011-06-22 03:35:14</td>\n",
              "      <td>155.0</td>\n",
              "      <td>failed</td>\n",
              "      <td>5</td>\n",
              "      <td>US</td>\n",
              "      <td>644.0</td>\n",
              "    </tr>\n",
              "    <tr>\n",
              "      <th>378658</th>\n",
              "      <td>Walls of Remedy- New lesbian Romantic Comedy f...</td>\n",
              "      <td>Narrative Film</td>\n",
              "      <td>Film &amp; Video</td>\n",
              "      <td>USD</td>\n",
              "      <td>2010-08-16</td>\n",
              "      <td>15000.0</td>\n",
              "      <td>2010-07-01 19:40:30</td>\n",
              "      <td>20.0</td>\n",
              "      <td>failed</td>\n",
              "      <td>1</td>\n",
              "      <td>US</td>\n",
              "      <td>1084.0</td>\n",
              "    </tr>\n",
              "    <tr>\n",
              "      <th>378659</th>\n",
              "      <td>BioDefense Education Kit</td>\n",
              "      <td>Technology</td>\n",
              "      <td>Technology</td>\n",
              "      <td>USD</td>\n",
              "      <td>2016-02-13</td>\n",
              "      <td>15000.0</td>\n",
              "      <td>2016-01-13 18:13:53</td>\n",
              "      <td>200.0</td>\n",
              "      <td>failed</td>\n",
              "      <td>6</td>\n",
              "      <td>US</td>\n",
              "      <td>725.0</td>\n",
              "    </tr>\n",
              "    <tr>\n",
              "      <th>378660</th>\n",
              "      <td>Nou Renmen Ayiti!  We Love Haiti!</td>\n",
              "      <td>Performance Art</td>\n",
              "      <td>Art</td>\n",
              "      <td>USD</td>\n",
              "      <td>2011-08-16</td>\n",
              "      <td>2000.0</td>\n",
              "      <td>2011-07-19 09:07:47</td>\n",
              "      <td>524.0</td>\n",
              "      <td>failed</td>\n",
              "      <td>17</td>\n",
              "      <td>US</td>\n",
              "      <td>662.0</td>\n",
              "    </tr>\n",
              "  </tbody>\n",
              "</table>\n",
              "<p>292624 rows × 12 columns</p>\n",
              "</div>"
            ],
            "text/plain": [
              "                                                     name  ... duration\n",
              "1           Greeting From Earth: ZGAC Arts Capsule For ET  ...   1435.0\n",
              "2                                          Where is Hank?  ...   1079.0\n",
              "3       ToshiCapital Rekordz Needs Help to Complete Album  ...    716.0\n",
              "4       Community Film Project: The Art of Neighborhoo...  ...   1335.0\n",
              "5                                    Monarch Espresso Bar  ...    826.0\n",
              "...                                                   ...  ...      ...\n",
              "378656  ChknTruk Nationwide Charity Drive 2014 (Canceled)  ...    717.0\n",
              "378657                                          The Tribe  ...    644.0\n",
              "378658  Walls of Remedy- New lesbian Romantic Comedy f...  ...   1084.0\n",
              "378659                           BioDefense Education Kit  ...    725.0\n",
              "378660                  Nou Renmen Ayiti!  We Love Haiti!  ...    662.0\n",
              "\n",
              "[292624 rows x 12 columns]"
            ]
          },
          "metadata": {
            "tags": []
          },
          "execution_count": 92
        }
      ]
    },
    {
      "cell_type": "markdown",
      "metadata": {
        "id": "CXEinQk3OgZ8"
      },
      "source": [
        "We also don't need the currency and country column anymore now that we are just working with US."
      ]
    },
    {
      "cell_type": "code",
      "metadata": {
        "colab": {
          "base_uri": "https://localhost:8080/",
          "height": 570
        },
        "id": "tWdnUsK0OU7G",
        "outputId": "b0008537-2ede-4521-c18a-1f600308e7a2"
      },
      "source": [
        "df = df.drop(columns=['currency', 'country'])\n",
        "df"
      ],
      "execution_count": null,
      "outputs": [
        {
          "output_type": "execute_result",
          "data": {
            "text/html": [
              "<div>\n",
              "<style scoped>\n",
              "    .dataframe tbody tr th:only-of-type {\n",
              "        vertical-align: middle;\n",
              "    }\n",
              "\n",
              "    .dataframe tbody tr th {\n",
              "        vertical-align: top;\n",
              "    }\n",
              "\n",
              "    .dataframe thead th {\n",
              "        text-align: right;\n",
              "    }\n",
              "</style>\n",
              "<table border=\"1\" class=\"dataframe\">\n",
              "  <thead>\n",
              "    <tr style=\"text-align: right;\">\n",
              "      <th></th>\n",
              "      <th>name</th>\n",
              "      <th>category</th>\n",
              "      <th>main_category</th>\n",
              "      <th>deadline</th>\n",
              "      <th>goal</th>\n",
              "      <th>launched</th>\n",
              "      <th>pledged</th>\n",
              "      <th>state</th>\n",
              "      <th>backers</th>\n",
              "      <th>duration</th>\n",
              "    </tr>\n",
              "  </thead>\n",
              "  <tbody>\n",
              "    <tr>\n",
              "      <th>1</th>\n",
              "      <td>Greeting From Earth: ZGAC Arts Capsule For ET</td>\n",
              "      <td>Narrative Film</td>\n",
              "      <td>Film &amp; Video</td>\n",
              "      <td>2017-11-01</td>\n",
              "      <td>30000.0</td>\n",
              "      <td>2017-09-02 04:43:57</td>\n",
              "      <td>2421.0</td>\n",
              "      <td>failed</td>\n",
              "      <td>15</td>\n",
              "      <td>1435.0</td>\n",
              "    </tr>\n",
              "    <tr>\n",
              "      <th>2</th>\n",
              "      <td>Where is Hank?</td>\n",
              "      <td>Narrative Film</td>\n",
              "      <td>Film &amp; Video</td>\n",
              "      <td>2013-02-26</td>\n",
              "      <td>45000.0</td>\n",
              "      <td>2013-01-12 00:20:50</td>\n",
              "      <td>220.0</td>\n",
              "      <td>failed</td>\n",
              "      <td>3</td>\n",
              "      <td>1079.0</td>\n",
              "    </tr>\n",
              "    <tr>\n",
              "      <th>3</th>\n",
              "      <td>ToshiCapital Rekordz Needs Help to Complete Album</td>\n",
              "      <td>Music</td>\n",
              "      <td>Music</td>\n",
              "      <td>2012-04-16</td>\n",
              "      <td>5000.0</td>\n",
              "      <td>2012-03-17 03:24:11</td>\n",
              "      <td>1.0</td>\n",
              "      <td>failed</td>\n",
              "      <td>1</td>\n",
              "      <td>716.0</td>\n",
              "    </tr>\n",
              "    <tr>\n",
              "      <th>4</th>\n",
              "      <td>Community Film Project: The Art of Neighborhoo...</td>\n",
              "      <td>Film &amp; Video</td>\n",
              "      <td>Film &amp; Video</td>\n",
              "      <td>2015-08-29</td>\n",
              "      <td>19500.0</td>\n",
              "      <td>2015-07-04 08:35:03</td>\n",
              "      <td>1283.0</td>\n",
              "      <td>canceled</td>\n",
              "      <td>14</td>\n",
              "      <td>1335.0</td>\n",
              "    </tr>\n",
              "    <tr>\n",
              "      <th>5</th>\n",
              "      <td>Monarch Espresso Bar</td>\n",
              "      <td>Restaurants</td>\n",
              "      <td>Food</td>\n",
              "      <td>2016-04-01</td>\n",
              "      <td>50000.0</td>\n",
              "      <td>2016-02-26 13:38:27</td>\n",
              "      <td>52375.0</td>\n",
              "      <td>successful</td>\n",
              "      <td>224</td>\n",
              "      <td>826.0</td>\n",
              "    </tr>\n",
              "    <tr>\n",
              "      <th>...</th>\n",
              "      <td>...</td>\n",
              "      <td>...</td>\n",
              "      <td>...</td>\n",
              "      <td>...</td>\n",
              "      <td>...</td>\n",
              "      <td>...</td>\n",
              "      <td>...</td>\n",
              "      <td>...</td>\n",
              "      <td>...</td>\n",
              "      <td>...</td>\n",
              "    </tr>\n",
              "    <tr>\n",
              "      <th>378656</th>\n",
              "      <td>ChknTruk Nationwide Charity Drive 2014 (Canceled)</td>\n",
              "      <td>Documentary</td>\n",
              "      <td>Film &amp; Video</td>\n",
              "      <td>2014-10-17</td>\n",
              "      <td>50000.0</td>\n",
              "      <td>2014-09-17 02:35:30</td>\n",
              "      <td>25.0</td>\n",
              "      <td>canceled</td>\n",
              "      <td>1</td>\n",
              "      <td>717.0</td>\n",
              "    </tr>\n",
              "    <tr>\n",
              "      <th>378657</th>\n",
              "      <td>The Tribe</td>\n",
              "      <td>Narrative Film</td>\n",
              "      <td>Film &amp; Video</td>\n",
              "      <td>2011-07-19</td>\n",
              "      <td>1500.0</td>\n",
              "      <td>2011-06-22 03:35:14</td>\n",
              "      <td>155.0</td>\n",
              "      <td>failed</td>\n",
              "      <td>5</td>\n",
              "      <td>644.0</td>\n",
              "    </tr>\n",
              "    <tr>\n",
              "      <th>378658</th>\n",
              "      <td>Walls of Remedy- New lesbian Romantic Comedy f...</td>\n",
              "      <td>Narrative Film</td>\n",
              "      <td>Film &amp; Video</td>\n",
              "      <td>2010-08-16</td>\n",
              "      <td>15000.0</td>\n",
              "      <td>2010-07-01 19:40:30</td>\n",
              "      <td>20.0</td>\n",
              "      <td>failed</td>\n",
              "      <td>1</td>\n",
              "      <td>1084.0</td>\n",
              "    </tr>\n",
              "    <tr>\n",
              "      <th>378659</th>\n",
              "      <td>BioDefense Education Kit</td>\n",
              "      <td>Technology</td>\n",
              "      <td>Technology</td>\n",
              "      <td>2016-02-13</td>\n",
              "      <td>15000.0</td>\n",
              "      <td>2016-01-13 18:13:53</td>\n",
              "      <td>200.0</td>\n",
              "      <td>failed</td>\n",
              "      <td>6</td>\n",
              "      <td>725.0</td>\n",
              "    </tr>\n",
              "    <tr>\n",
              "      <th>378660</th>\n",
              "      <td>Nou Renmen Ayiti!  We Love Haiti!</td>\n",
              "      <td>Performance Art</td>\n",
              "      <td>Art</td>\n",
              "      <td>2011-08-16</td>\n",
              "      <td>2000.0</td>\n",
              "      <td>2011-07-19 09:07:47</td>\n",
              "      <td>524.0</td>\n",
              "      <td>failed</td>\n",
              "      <td>17</td>\n",
              "      <td>662.0</td>\n",
              "    </tr>\n",
              "  </tbody>\n",
              "</table>\n",
              "<p>292624 rows × 10 columns</p>\n",
              "</div>"
            ],
            "text/plain": [
              "                                                     name  ... duration\n",
              "1           Greeting From Earth: ZGAC Arts Capsule For ET  ...   1435.0\n",
              "2                                          Where is Hank?  ...   1079.0\n",
              "3       ToshiCapital Rekordz Needs Help to Complete Album  ...    716.0\n",
              "4       Community Film Project: The Art of Neighborhoo...  ...   1335.0\n",
              "5                                    Monarch Espresso Bar  ...    826.0\n",
              "...                                                   ...  ...      ...\n",
              "378656  ChknTruk Nationwide Charity Drive 2014 (Canceled)  ...    717.0\n",
              "378657                                          The Tribe  ...    644.0\n",
              "378658  Walls of Remedy- New lesbian Romantic Comedy f...  ...   1084.0\n",
              "378659                           BioDefense Education Kit  ...    725.0\n",
              "378660                  Nou Renmen Ayiti!  We Love Haiti!  ...    662.0\n",
              "\n",
              "[292624 rows x 10 columns]"
            ]
          },
          "metadata": {
            "tags": []
          },
          "execution_count": 93
        }
      ]
    },
    {
      "cell_type": "markdown",
      "metadata": {
        "id": "5ie_BW2AsrLR"
      },
      "source": [
        "**We will look into the projects categories and count how many projects are allocated to each category:**"
      ]
    },
    {
      "cell_type": "code",
      "metadata": {
        "colab": {
          "base_uri": "https://localhost:8080/"
        },
        "id": "2ms7HwwfOp-S",
        "outputId": "f86e3edc-4f9d-431b-e978-e3f7c6272c54"
      },
      "source": [
        "df.main_category.value_counts()"
      ],
      "execution_count": null,
      "outputs": [
        {
          "output_type": "execute_result",
          "data": {
            "text/plain": [
              "Film & Video    51921\n",
              "Music           43238\n",
              "Publishing      31726\n",
              "Games           24636\n",
              "Art             22310\n",
              "Design          21689\n",
              "Technology      21556\n",
              "Food            19941\n",
              "Fashion         16584\n",
              "Comics           8910\n",
              "Theater          8709\n",
              "Photography      7988\n",
              "Crafts           6648\n",
              "Journalism       3540\n",
              "Dance            3228\n",
              "Name: main_category, dtype: int64"
            ]
          },
          "metadata": {
            "tags": []
          },
          "execution_count": 94
        }
      ]
    },
    {
      "cell_type": "markdown",
      "metadata": {
        "id": "T-yZE27StDCU"
      },
      "source": [
        "It looks like projects in **Film & Video** AND **Music** have the majority of the number of the projects. \n",
        "\n",
        "Let's plot plot it to be more clear:"
      ]
    },
    {
      "cell_type": "code",
      "metadata": {
        "colab": {
          "base_uri": "https://localhost:8080/",
          "height": 335
        },
        "id": "5h8Ha3gkPhgi",
        "outputId": "3b49c92f-db25-4bc4-ff7a-3c4d941ad29d"
      },
      "source": [
        "percent_plot((df.main_category.value_counts()/df.main_category.value_counts().sum()*100), \"Category Rate for US\")"
      ],
      "execution_count": null,
      "outputs": [
        {
          "output_type": "display_data",
          "data": {
            "image/png": "[encoded data removed]",
            "text/plain": [
              "<Figure size 432x288 with 1 Axes>"
            ]
          },
          "metadata": {
            "tags": [],
            "needs_background": "light"
          }
        }
      ]
    },
    {
      "cell_type": "markdown",
      "metadata": {
        "id": "1aOHL_6Ctu_m"
      },
      "source": [
        "**Figuring out the result of projects in the U.S.**"
      ]
    },
    {
      "cell_type": "code",
      "metadata": {
        "colab": {
          "base_uri": "https://localhost:8080/",
          "height": 526
        },
        "id": "5xMT23iRQEBE",
        "outputId": "447940ee-8c33-4a8c-967b-c070a0095677"
      },
      "source": [
        "sns.catplot('state',data=df,kind='count', height=6)"
      ],
      "execution_count": null,
      "outputs": [
        {
          "output_type": "stream",
          "text": [
            "/usr/local/lib/python3.7/dist-packages/seaborn/_decorators.py:43: FutureWarning: Pass the following variable as a keyword arg: x. From version 0.12, the only valid positional argument will be `data`, and passing other arguments without an explicit keyword will result in an error or misinterpretation.\n",
            "  FutureWarning\n"
          ],
          "name": "stderr"
        },
        {
          "output_type": "execute_result",
          "data": {
            "text/plain": [
              "<seaborn.axisgrid.FacetGrid at 0x7f921f7eaf50>"
            ]
          },
          "metadata": {
            "tags": []
          },
          "execution_count": 96
        },
        {
          "output_type": "display_data",
          "data": {
            "image/png": "[encoded data removed]",
            "text/plain": [
              "<Figure size 432x432 with 1 Axes>"
            ]
          },
          "metadata": {
            "tags": [],
            "needs_background": "light"
          }
        }
      ]
    },
    {
      "cell_type": "markdown",
      "metadata": {
        "id": "9DZtB3EeRUNR"
      },
      "source": [
        "Looks like the number of project that **failed** are larger than other categories, such as *Failed*, *Canceled*, *Successful*, *Live*, and *Suspended*.\n",
        "\n",
        "For the sake of simplicity, we need to remove **live** and **suspended**"
      ]
    },
    {
      "cell_type": "code",
      "metadata": {
        "id": "Eao0Br66RHmC",
        "colab": {
          "base_uri": "https://localhost:8080/",
          "height": 570
        },
        "outputId": "870a153d-60bc-4d7f-ddb9-fa734a67461d"
      },
      "source": [
        "df = df.loc[(df['state'] != 'live') & (df['state'] != 'suspended')]\n",
        "df"
      ],
      "execution_count": null,
      "outputs": [
        {
          "output_type": "execute_result",
          "data": {
            "text/html": [
              "<div>\n",
              "<style scoped>\n",
              "    .dataframe tbody tr th:only-of-type {\n",
              "        vertical-align: middle;\n",
              "    }\n",
              "\n",
              "    .dataframe tbody tr th {\n",
              "        vertical-align: top;\n",
              "    }\n",
              "\n",
              "    .dataframe thead th {\n",
              "        text-align: right;\n",
              "    }\n",
              "</style>\n",
              "<table border=\"1\" class=\"dataframe\">\n",
              "  <thead>\n",
              "    <tr style=\"text-align: right;\">\n",
              "      <th></th>\n",
              "      <th>name</th>\n",
              "      <th>category</th>\n",
              "      <th>main_category</th>\n",
              "      <th>deadline</th>\n",
              "      <th>goal</th>\n",
              "      <th>launched</th>\n",
              "      <th>pledged</th>\n",
              "      <th>state</th>\n",
              "      <th>backers</th>\n",
              "      <th>duration</th>\n",
              "    </tr>\n",
              "  </thead>\n",
              "  <tbody>\n",
              "    <tr>\n",
              "      <th>1</th>\n",
              "      <td>Greeting From Earth: ZGAC Arts Capsule For ET</td>\n",
              "      <td>Narrative Film</td>\n",
              "      <td>Film &amp; Video</td>\n",
              "      <td>2017-11-01</td>\n",
              "      <td>30000.0</td>\n",
              "      <td>2017-09-02 04:43:57</td>\n",
              "      <td>2421.0</td>\n",
              "      <td>failed</td>\n",
              "      <td>15</td>\n",
              "      <td>1435.0</td>\n",
              "    </tr>\n",
              "    <tr>\n",
              "      <th>2</th>\n",
              "      <td>Where is Hank?</td>\n",
              "      <td>Narrative Film</td>\n",
              "      <td>Film &amp; Video</td>\n",
              "      <td>2013-02-26</td>\n",
              "      <td>45000.0</td>\n",
              "      <td>2013-01-12 00:20:50</td>\n",
              "      <td>220.0</td>\n",
              "      <td>failed</td>\n",
              "      <td>3</td>\n",
              "      <td>1079.0</td>\n",
              "    </tr>\n",
              "    <tr>\n",
              "      <th>3</th>\n",
              "      <td>ToshiCapital Rekordz Needs Help to Complete Album</td>\n",
              "      <td>Music</td>\n",
              "      <td>Music</td>\n",
              "      <td>2012-04-16</td>\n",
              "      <td>5000.0</td>\n",
              "      <td>2012-03-17 03:24:11</td>\n",
              "      <td>1.0</td>\n",
              "      <td>failed</td>\n",
              "      <td>1</td>\n",
              "      <td>716.0</td>\n",
              "    </tr>\n",
              "    <tr>\n",
              "      <th>4</th>\n",
              "      <td>Community Film Project: The Art of Neighborhoo...</td>\n",
              "      <td>Film &amp; Video</td>\n",
              "      <td>Film &amp; Video</td>\n",
              "      <td>2015-08-29</td>\n",
              "      <td>19500.0</td>\n",
              "      <td>2015-07-04 08:35:03</td>\n",
              "      <td>1283.0</td>\n",
              "      <td>canceled</td>\n",
              "      <td>14</td>\n",
              "      <td>1335.0</td>\n",
              "    </tr>\n",
              "    <tr>\n",
              "      <th>5</th>\n",
              "      <td>Monarch Espresso Bar</td>\n",
              "      <td>Restaurants</td>\n",
              "      <td>Food</td>\n",
              "      <td>2016-04-01</td>\n",
              "      <td>50000.0</td>\n",
              "      <td>2016-02-26 13:38:27</td>\n",
              "      <td>52375.0</td>\n",
              "      <td>successful</td>\n",
              "      <td>224</td>\n",
              "      <td>826.0</td>\n",
              "    </tr>\n",
              "    <tr>\n",
              "      <th>...</th>\n",
              "      <td>...</td>\n",
              "      <td>...</td>\n",
              "      <td>...</td>\n",
              "      <td>...</td>\n",
              "      <td>...</td>\n",
              "      <td>...</td>\n",
              "      <td>...</td>\n",
              "      <td>...</td>\n",
              "      <td>...</td>\n",
              "      <td>...</td>\n",
              "    </tr>\n",
              "    <tr>\n",
              "      <th>378656</th>\n",
              "      <td>ChknTruk Nationwide Charity Drive 2014 (Canceled)</td>\n",
              "      <td>Documentary</td>\n",
              "      <td>Film &amp; Video</td>\n",
              "      <td>2014-10-17</td>\n",
              "      <td>50000.0</td>\n",
              "      <td>2014-09-17 02:35:30</td>\n",
              "      <td>25.0</td>\n",
              "      <td>canceled</td>\n",
              "      <td>1</td>\n",
              "      <td>717.0</td>\n",
              "    </tr>\n",
              "    <tr>\n",
              "      <th>378657</th>\n",
              "      <td>The Tribe</td>\n",
              "      <td>Narrative Film</td>\n",
              "      <td>Film &amp; Video</td>\n",
              "      <td>2011-07-19</td>\n",
              "      <td>1500.0</td>\n",
              "      <td>2011-06-22 03:35:14</td>\n",
              "      <td>155.0</td>\n",
              "      <td>failed</td>\n",
              "      <td>5</td>\n",
              "      <td>644.0</td>\n",
              "    </tr>\n",
              "    <tr>\n",
              "      <th>378658</th>\n",
              "      <td>Walls of Remedy- New lesbian Romantic Comedy f...</td>\n",
              "      <td>Narrative Film</td>\n",
              "      <td>Film &amp; Video</td>\n",
              "      <td>2010-08-16</td>\n",
              "      <td>15000.0</td>\n",
              "      <td>2010-07-01 19:40:30</td>\n",
              "      <td>20.0</td>\n",
              "      <td>failed</td>\n",
              "      <td>1</td>\n",
              "      <td>1084.0</td>\n",
              "    </tr>\n",
              "    <tr>\n",
              "      <th>378659</th>\n",
              "      <td>BioDefense Education Kit</td>\n",
              "      <td>Technology</td>\n",
              "      <td>Technology</td>\n",
              "      <td>2016-02-13</td>\n",
              "      <td>15000.0</td>\n",
              "      <td>2016-01-13 18:13:53</td>\n",
              "      <td>200.0</td>\n",
              "      <td>failed</td>\n",
              "      <td>6</td>\n",
              "      <td>725.0</td>\n",
              "    </tr>\n",
              "    <tr>\n",
              "      <th>378660</th>\n",
              "      <td>Nou Renmen Ayiti!  We Love Haiti!</td>\n",
              "      <td>Performance Art</td>\n",
              "      <td>Art</td>\n",
              "      <td>2011-08-16</td>\n",
              "      <td>2000.0</td>\n",
              "      <td>2011-07-19 09:07:47</td>\n",
              "      <td>524.0</td>\n",
              "      <td>failed</td>\n",
              "      <td>17</td>\n",
              "      <td>662.0</td>\n",
              "    </tr>\n",
              "  </tbody>\n",
              "</table>\n",
              "<p>289669 rows × 10 columns</p>\n",
              "</div>"
            ],
            "text/plain": [
              "                                                     name  ... duration\n",
              "1           Greeting From Earth: ZGAC Arts Capsule For ET  ...   1435.0\n",
              "2                                          Where is Hank?  ...   1079.0\n",
              "3       ToshiCapital Rekordz Needs Help to Complete Album  ...    716.0\n",
              "4       Community Film Project: The Art of Neighborhoo...  ...   1335.0\n",
              "5                                    Monarch Espresso Bar  ...    826.0\n",
              "...                                                   ...  ...      ...\n",
              "378656  ChknTruk Nationwide Charity Drive 2014 (Canceled)  ...    717.0\n",
              "378657                                          The Tribe  ...    644.0\n",
              "378658  Walls of Remedy- New lesbian Romantic Comedy f...  ...   1084.0\n",
              "378659                           BioDefense Education Kit  ...    725.0\n",
              "378660                  Nou Renmen Ayiti!  We Love Haiti!  ...    662.0\n",
              "\n",
              "[289669 rows x 10 columns]"
            ]
          },
          "metadata": {
            "tags": []
          },
          "execution_count": 97
        }
      ]
    },
    {
      "cell_type": "markdown",
      "metadata": {
        "id": "gjwCTbPzUT53"
      },
      "source": [
        "##**Machine Learning**\n",
        "\n",
        "# **1) Random Forest**\n"
      ]
    },
    {
      "cell_type": "markdown",
      "metadata": {
        "id": "6aan9I9lwTiO"
      },
      "source": [
        "Specifying the features:"
      ]
    },
    {
      "cell_type": "code",
      "metadata": {
        "colab": {
          "base_uri": "https://localhost:8080/",
          "height": 402
        },
        "id": "9mjyQae2UFQs",
        "outputId": "8642628f-7d58-461c-8083-86cacd3205b6"
      },
      "source": [
        "X = df.drop(columns=['name', 'category','state', 'deadline', 'launched'])\n",
        "X"
      ],
      "execution_count": null,
      "outputs": [
        {
          "output_type": "execute_result",
          "data": {
            "text/html": [
              "<div>\n",
              "<style scoped>\n",
              "    .dataframe tbody tr th:only-of-type {\n",
              "        vertical-align: middle;\n",
              "    }\n",
              "\n",
              "    .dataframe tbody tr th {\n",
              "        vertical-align: top;\n",
              "    }\n",
              "\n",
              "    .dataframe thead th {\n",
              "        text-align: right;\n",
              "    }\n",
              "</style>\n",
              "<table border=\"1\" class=\"dataframe\">\n",
              "  <thead>\n",
              "    <tr style=\"text-align: right;\">\n",
              "      <th></th>\n",
              "      <th>main_category</th>\n",
              "      <th>goal</th>\n",
              "      <th>pledged</th>\n",
              "      <th>backers</th>\n",
              "      <th>duration</th>\n",
              "    </tr>\n",
              "  </thead>\n",
              "  <tbody>\n",
              "    <tr>\n",
              "      <th>1</th>\n",
              "      <td>Film &amp; Video</td>\n",
              "      <td>30000.0</td>\n",
              "      <td>2421.0</td>\n",
              "      <td>15</td>\n",
              "      <td>1435.0</td>\n",
              "    </tr>\n",
              "    <tr>\n",
              "      <th>2</th>\n",
              "      <td>Film &amp; Video</td>\n",
              "      <td>45000.0</td>\n",
              "      <td>220.0</td>\n",
              "      <td>3</td>\n",
              "      <td>1079.0</td>\n",
              "    </tr>\n",
              "    <tr>\n",
              "      <th>3</th>\n",
              "      <td>Music</td>\n",
              "      <td>5000.0</td>\n",
              "      <td>1.0</td>\n",
              "      <td>1</td>\n",
              "      <td>716.0</td>\n",
              "    </tr>\n",
              "    <tr>\n",
              "      <th>4</th>\n",
              "      <td>Film &amp; Video</td>\n",
              "      <td>19500.0</td>\n",
              "      <td>1283.0</td>\n",
              "      <td>14</td>\n",
              "      <td>1335.0</td>\n",
              "    </tr>\n",
              "    <tr>\n",
              "      <th>5</th>\n",
              "      <td>Food</td>\n",
              "      <td>50000.0</td>\n",
              "      <td>52375.0</td>\n",
              "      <td>224</td>\n",
              "      <td>826.0</td>\n",
              "    </tr>\n",
              "    <tr>\n",
              "      <th>...</th>\n",
              "      <td>...</td>\n",
              "      <td>...</td>\n",
              "      <td>...</td>\n",
              "      <td>...</td>\n",
              "      <td>...</td>\n",
              "    </tr>\n",
              "    <tr>\n",
              "      <th>378656</th>\n",
              "      <td>Film &amp; Video</td>\n",
              "      <td>50000.0</td>\n",
              "      <td>25.0</td>\n",
              "      <td>1</td>\n",
              "      <td>717.0</td>\n",
              "    </tr>\n",
              "    <tr>\n",
              "      <th>378657</th>\n",
              "      <td>Film &amp; Video</td>\n",
              "      <td>1500.0</td>\n",
              "      <td>155.0</td>\n",
              "      <td>5</td>\n",
              "      <td>644.0</td>\n",
              "    </tr>\n",
              "    <tr>\n",
              "      <th>378658</th>\n",
              "      <td>Film &amp; Video</td>\n",
              "      <td>15000.0</td>\n",
              "      <td>20.0</td>\n",
              "      <td>1</td>\n",
              "      <td>1084.0</td>\n",
              "    </tr>\n",
              "    <tr>\n",
              "      <th>378659</th>\n",
              "      <td>Technology</td>\n",
              "      <td>15000.0</td>\n",
              "      <td>200.0</td>\n",
              "      <td>6</td>\n",
              "      <td>725.0</td>\n",
              "    </tr>\n",
              "    <tr>\n",
              "      <th>378660</th>\n",
              "      <td>Art</td>\n",
              "      <td>2000.0</td>\n",
              "      <td>524.0</td>\n",
              "      <td>17</td>\n",
              "      <td>662.0</td>\n",
              "    </tr>\n",
              "  </tbody>\n",
              "</table>\n",
              "<p>289669 rows × 5 columns</p>\n",
              "</div>"
            ],
            "text/plain": [
              "       main_category     goal  pledged  backers  duration\n",
              "1       Film & Video  30000.0   2421.0       15    1435.0\n",
              "2       Film & Video  45000.0    220.0        3    1079.0\n",
              "3              Music   5000.0      1.0        1     716.0\n",
              "4       Film & Video  19500.0   1283.0       14    1335.0\n",
              "5               Food  50000.0  52375.0      224     826.0\n",
              "...              ...      ...      ...      ...       ...\n",
              "378656  Film & Video  50000.0     25.0        1     717.0\n",
              "378657  Film & Video   1500.0    155.0        5     644.0\n",
              "378658  Film & Video  15000.0     20.0        1    1084.0\n",
              "378659    Technology  15000.0    200.0        6     725.0\n",
              "378660           Art   2000.0    524.0       17     662.0\n",
              "\n",
              "[289669 rows x 5 columns]"
            ]
          },
          "metadata": {
            "tags": []
          },
          "execution_count": 98
        }
      ]
    },
    {
      "cell_type": "markdown",
      "metadata": {
        "id": "SbnXQlPbwa6A"
      },
      "source": [
        "Specifiyng the lable:"
      ]
    },
    {
      "cell_type": "code",
      "metadata": {
        "colab": {
          "base_uri": "https://localhost:8080/"
        },
        "id": "GPPKehhbU4gp",
        "outputId": "2558cf2a-dff7-409f-e562-56db549c248e"
      },
      "source": [
        "y = df['state']\n",
        "y"
      ],
      "execution_count": null,
      "outputs": [
        {
          "output_type": "execute_result",
          "data": {
            "text/plain": [
              "1             failed\n",
              "2             failed\n",
              "3             failed\n",
              "4           canceled\n",
              "5         successful\n",
              "             ...    \n",
              "378656      canceled\n",
              "378657        failed\n",
              "378658        failed\n",
              "378659        failed\n",
              "378660        failed\n",
              "Name: state, Length: 289669, dtype: object"
            ]
          },
          "metadata": {
            "tags": []
          },
          "execution_count": 99
        }
      ]
    },
    {
      "cell_type": "markdown",
      "metadata": {
        "id": "abgqfH8AwfTq"
      },
      "source": [
        "**main_category** has *15* different categories. To classify each category we need to use *One-Hot Encoding*. \n",
        "\n",
        "*Each category becomes a column that 0 OR 1 determines whether the project is associated with that particular project or not*"
      ]
    },
    {
      "cell_type": "code",
      "metadata": {
        "colab": {
          "base_uri": "https://localhost:8080/",
          "height": 438
        },
        "id": "N6g7uoipXx4P",
        "outputId": "545ab489-eddf-498b-edb4-cfe43ed4fb1d"
      },
      "source": [
        "X = pd.get_dummies(X, columns=['main_category'])\n",
        "X"
      ],
      "execution_count": null,
      "outputs": [
        {
          "output_type": "execute_result",
          "data": {
            "text/html": [
              "<div>\n",
              "<style scoped>\n",
              "    .dataframe tbody tr th:only-of-type {\n",
              "        vertical-align: middle;\n",
              "    }\n",
              "\n",
              "    .dataframe tbody tr th {\n",
              "        vertical-align: top;\n",
              "    }\n",
              "\n",
              "    .dataframe thead th {\n",
              "        text-align: right;\n",
              "    }\n",
              "</style>\n",
              "<table border=\"1\" class=\"dataframe\">\n",
              "  <thead>\n",
              "    <tr style=\"text-align: right;\">\n",
              "      <th></th>\n",
              "      <th>goal</th>\n",
              "      <th>pledged</th>\n",
              "      <th>backers</th>\n",
              "      <th>duration</th>\n",
              "      <th>main_category_Art</th>\n",
              "      <th>main_category_Comics</th>\n",
              "      <th>main_category_Crafts</th>\n",
              "      <th>main_category_Dance</th>\n",
              "      <th>main_category_Design</th>\n",
              "      <th>main_category_Fashion</th>\n",
              "      <th>main_category_Film &amp; Video</th>\n",
              "      <th>main_category_Food</th>\n",
              "      <th>main_category_Games</th>\n",
              "      <th>main_category_Journalism</th>\n",
              "      <th>main_category_Music</th>\n",
              "      <th>main_category_Photography</th>\n",
              "      <th>main_category_Publishing</th>\n",
              "      <th>main_category_Technology</th>\n",
              "      <th>main_category_Theater</th>\n",
              "    </tr>\n",
              "  </thead>\n",
              "  <tbody>\n",
              "    <tr>\n",
              "      <th>1</th>\n",
              "      <td>30000.0</td>\n",
              "      <td>2421.0</td>\n",
              "      <td>15</td>\n",
              "      <td>1435.0</td>\n",
              "      <td>0</td>\n",
              "      <td>0</td>\n",
              "      <td>0</td>\n",
              "      <td>0</td>\n",
              "      <td>0</td>\n",
              "      <td>0</td>\n",
              "      <td>1</td>\n",
              "      <td>0</td>\n",
              "      <td>0</td>\n",
              "      <td>0</td>\n",
              "      <td>0</td>\n",
              "      <td>0</td>\n",
              "      <td>0</td>\n",
              "      <td>0</td>\n",
              "      <td>0</td>\n",
              "    </tr>\n",
              "    <tr>\n",
              "      <th>2</th>\n",
              "      <td>45000.0</td>\n",
              "      <td>220.0</td>\n",
              "      <td>3</td>\n",
              "      <td>1079.0</td>\n",
              "      <td>0</td>\n",
              "      <td>0</td>\n",
              "      <td>0</td>\n",
              "      <td>0</td>\n",
              "      <td>0</td>\n",
              "      <td>0</td>\n",
              "      <td>1</td>\n",
              "      <td>0</td>\n",
              "      <td>0</td>\n",
              "      <td>0</td>\n",
              "      <td>0</td>\n",
              "      <td>0</td>\n",
              "      <td>0</td>\n",
              "      <td>0</td>\n",
              "      <td>0</td>\n",
              "    </tr>\n",
              "    <tr>\n",
              "      <th>3</th>\n",
              "      <td>5000.0</td>\n",
              "      <td>1.0</td>\n",
              "      <td>1</td>\n",
              "      <td>716.0</td>\n",
              "      <td>0</td>\n",
              "      <td>0</td>\n",
              "      <td>0</td>\n",
              "      <td>0</td>\n",
              "      <td>0</td>\n",
              "      <td>0</td>\n",
              "      <td>0</td>\n",
              "      <td>0</td>\n",
              "      <td>0</td>\n",
              "      <td>0</td>\n",
              "      <td>1</td>\n",
              "      <td>0</td>\n",
              "      <td>0</td>\n",
              "      <td>0</td>\n",
              "      <td>0</td>\n",
              "    </tr>\n",
              "    <tr>\n",
              "      <th>4</th>\n",
              "      <td>19500.0</td>\n",
              "      <td>1283.0</td>\n",
              "      <td>14</td>\n",
              "      <td>1335.0</td>\n",
              "      <td>0</td>\n",
              "      <td>0</td>\n",
              "      <td>0</td>\n",
              "      <td>0</td>\n",
              "      <td>0</td>\n",
              "      <td>0</td>\n",
              "      <td>1</td>\n",
              "      <td>0</td>\n",
              "      <td>0</td>\n",
              "      <td>0</td>\n",
              "      <td>0</td>\n",
              "      <td>0</td>\n",
              "      <td>0</td>\n",
              "      <td>0</td>\n",
              "      <td>0</td>\n",
              "    </tr>\n",
              "    <tr>\n",
              "      <th>5</th>\n",
              "      <td>50000.0</td>\n",
              "      <td>52375.0</td>\n",
              "      <td>224</td>\n",
              "      <td>826.0</td>\n",
              "      <td>0</td>\n",
              "      <td>0</td>\n",
              "      <td>0</td>\n",
              "      <td>0</td>\n",
              "      <td>0</td>\n",
              "      <td>0</td>\n",
              "      <td>0</td>\n",
              "      <td>1</td>\n",
              "      <td>0</td>\n",
              "      <td>0</td>\n",
              "      <td>0</td>\n",
              "      <td>0</td>\n",
              "      <td>0</td>\n",
              "      <td>0</td>\n",
              "      <td>0</td>\n",
              "    </tr>\n",
              "    <tr>\n",
              "      <th>...</th>\n",
              "      <td>...</td>\n",
              "      <td>...</td>\n",
              "      <td>...</td>\n",
              "      <td>...</td>\n",
              "      <td>...</td>\n",
              "      <td>...</td>\n",
              "      <td>...</td>\n",
              "      <td>...</td>\n",
              "      <td>...</td>\n",
              "      <td>...</td>\n",
              "      <td>...</td>\n",
              "      <td>...</td>\n",
              "      <td>...</td>\n",
              "      <td>...</td>\n",
              "      <td>...</td>\n",
              "      <td>...</td>\n",
              "      <td>...</td>\n",
              "      <td>...</td>\n",
              "      <td>...</td>\n",
              "    </tr>\n",
              "    <tr>\n",
              "      <th>378656</th>\n",
              "      <td>50000.0</td>\n",
              "      <td>25.0</td>\n",
              "      <td>1</td>\n",
              "      <td>717.0</td>\n",
              "      <td>0</td>\n",
              "      <td>0</td>\n",
              "      <td>0</td>\n",
              "      <td>0</td>\n",
              "      <td>0</td>\n",
              "      <td>0</td>\n",
              "      <td>1</td>\n",
              "      <td>0</td>\n",
              "      <td>0</td>\n",
              "      <td>0</td>\n",
              "      <td>0</td>\n",
              "      <td>0</td>\n",
              "      <td>0</td>\n",
              "      <td>0</td>\n",
              "      <td>0</td>\n",
              "    </tr>\n",
              "    <tr>\n",
              "      <th>378657</th>\n",
              "      <td>1500.0</td>\n",
              "      <td>155.0</td>\n",
              "      <td>5</td>\n",
              "      <td>644.0</td>\n",
              "      <td>0</td>\n",
              "      <td>0</td>\n",
              "      <td>0</td>\n",
              "      <td>0</td>\n",
              "      <td>0</td>\n",
              "      <td>0</td>\n",
              "      <td>1</td>\n",
              "      <td>0</td>\n",
              "      <td>0</td>\n",
              "      <td>0</td>\n",
              "      <td>0</td>\n",
              "      <td>0</td>\n",
              "      <td>0</td>\n",
              "      <td>0</td>\n",
              "      <td>0</td>\n",
              "    </tr>\n",
              "    <tr>\n",
              "      <th>378658</th>\n",
              "      <td>15000.0</td>\n",
              "      <td>20.0</td>\n",
              "      <td>1</td>\n",
              "      <td>1084.0</td>\n",
              "      <td>0</td>\n",
              "      <td>0</td>\n",
              "      <td>0</td>\n",
              "      <td>0</td>\n",
              "      <td>0</td>\n",
              "      <td>0</td>\n",
              "      <td>1</td>\n",
              "      <td>0</td>\n",
              "      <td>0</td>\n",
              "      <td>0</td>\n",
              "      <td>0</td>\n",
              "      <td>0</td>\n",
              "      <td>0</td>\n",
              "      <td>0</td>\n",
              "      <td>0</td>\n",
              "    </tr>\n",
              "    <tr>\n",
              "      <th>378659</th>\n",
              "      <td>15000.0</td>\n",
              "      <td>200.0</td>\n",
              "      <td>6</td>\n",
              "      <td>725.0</td>\n",
              "      <td>0</td>\n",
              "      <td>0</td>\n",
              "      <td>0</td>\n",
              "      <td>0</td>\n",
              "      <td>0</td>\n",
              "      <td>0</td>\n",
              "      <td>0</td>\n",
              "      <td>0</td>\n",
              "      <td>0</td>\n",
              "      <td>0</td>\n",
              "      <td>0</td>\n",
              "      <td>0</td>\n",
              "      <td>0</td>\n",
              "      <td>1</td>\n",
              "      <td>0</td>\n",
              "    </tr>\n",
              "    <tr>\n",
              "      <th>378660</th>\n",
              "      <td>2000.0</td>\n",
              "      <td>524.0</td>\n",
              "      <td>17</td>\n",
              "      <td>662.0</td>\n",
              "      <td>1</td>\n",
              "      <td>0</td>\n",
              "      <td>0</td>\n",
              "      <td>0</td>\n",
              "      <td>0</td>\n",
              "      <td>0</td>\n",
              "      <td>0</td>\n",
              "      <td>0</td>\n",
              "      <td>0</td>\n",
              "      <td>0</td>\n",
              "      <td>0</td>\n",
              "      <td>0</td>\n",
              "      <td>0</td>\n",
              "      <td>0</td>\n",
              "      <td>0</td>\n",
              "    </tr>\n",
              "  </tbody>\n",
              "</table>\n",
              "<p>289669 rows × 19 columns</p>\n",
              "</div>"
            ],
            "text/plain": [
              "           goal  pledged  ...  main_category_Technology  main_category_Theater\n",
              "1       30000.0   2421.0  ...                         0                      0\n",
              "2       45000.0    220.0  ...                         0                      0\n",
              "3        5000.0      1.0  ...                         0                      0\n",
              "4       19500.0   1283.0  ...                         0                      0\n",
              "5       50000.0  52375.0  ...                         0                      0\n",
              "...         ...      ...  ...                       ...                    ...\n",
              "378656  50000.0     25.0  ...                         0                      0\n",
              "378657   1500.0    155.0  ...                         0                      0\n",
              "378658  15000.0     20.0  ...                         0                      0\n",
              "378659  15000.0    200.0  ...                         1                      0\n",
              "378660   2000.0    524.0  ...                         0                      0\n",
              "\n",
              "[289669 rows x 19 columns]"
            ]
          },
          "metadata": {
            "tags": []
          },
          "execution_count": 100
        }
      ]
    },
    {
      "cell_type": "markdown",
      "metadata": {
        "id": "RZ3IGoaNxJUy"
      },
      "source": [
        "Splitting the data into training set and testing set"
      ]
    },
    {
      "cell_type": "code",
      "metadata": {
        "id": "573S6P3YVUrR"
      },
      "source": [
        "X_train, X_test, y_train, y_test = train_test_split(X, y, test_size=0.2, random_state=2)"
      ],
      "execution_count": null,
      "outputs": []
    },
    {
      "cell_type": "markdown",
      "metadata": {
        "id": "sshl57A2xOmo"
      },
      "source": [
        "Training the data and making prediction on testing features using **Random Forest**:"
      ]
    },
    {
      "cell_type": "code",
      "metadata": {
        "id": "_ugGf9-5Vcsk",
        "colab": {
          "base_uri": "https://localhost:8080/"
        },
        "outputId": "dd99ed69-a272-4383-81ca-a1649d49bfdc"
      },
      "source": [
        "my_RandomForest = RandomForestClassifier(n_estimators = 28, bootstrap = True, random_state=5)\n",
        "my_RandomForest.fit(X_train, y_train)\n",
        "y_predict_RF = my_RandomForest.predict(X_test)\n",
        "print(accuracy_score(y_test, y_predict_RF))"
      ],
      "execution_count": null,
      "outputs": [
        {
          "output_type": "stream",
          "text": [
            "0.8854558635688887\n"
          ],
          "name": "stdout"
        }
      ]
    },
    {
      "cell_type": "markdown",
      "metadata": {
        "id": "0LOhbCdcxavI"
      },
      "source": [
        "### **Random Forest** *Accuracy* Prediction using **data splitting**: **88.54%** "
      ]
    },
    {
      "cell_type": "markdown",
      "metadata": {
        "id": "uyX-OYn43cIH"
      },
      "source": [
        "## **Confusion Matrix (Random Forest)**"
      ]
    },
    {
      "cell_type": "code",
      "metadata": {
        "colab": {
          "base_uri": "https://localhost:8080/"
        },
        "id": "nEzS5TAP3tS0",
        "outputId": "826eb802-412c-4d7c-f8ac-ab3d1df35fe1"
      },
      "source": [
        "cm_RF = metrics.confusion_matrix(y_predict_RF, y_test, labels=['failed','successful','canceled'])\n",
        "print(\"Confusion matrix of Random Forest:\")\n",
        "print(cm_RF)"
      ],
      "execution_count": null,
      "outputs": [
        {
          "output_type": "stream",
          "text": [
            "Confusion matrix of Random Forest:\n",
            "[[29053    14  4998]\n",
            " [  158 21822   137]\n",
            " [ 1321     8   423]]\n"
          ],
          "name": "stdout"
        }
      ]
    },
    {
      "cell_type": "code",
      "metadata": {
        "colab": {
          "base_uri": "https://localhost:8080/"
        },
        "id": "ED7WRlKDhtcn",
        "outputId": "0d097d51-a18e-4e16-946c-98aac1edcbae"
      },
      "source": [
        "counts = y_test.value_counts()\n",
        "counts"
      ],
      "execution_count": null,
      "outputs": [
        {
          "output_type": "execute_result",
          "data": {
            "text/plain": [
              "failed        30532\n",
              "successful    21844\n",
              "canceled       5558\n",
              "Name: state, dtype: int64"
            ]
          },
          "metadata": {
            "tags": []
          },
          "execution_count": 104
        }
      ]
    },
    {
      "cell_type": "code",
      "metadata": {
        "colab": {
          "base_uri": "https://localhost:8080/",
          "height": 358
        },
        "id": "HcAWRfcMVFzh",
        "outputId": "929bf54b-9741-45e5-abb1-3e0e806d4d25"
      },
      "source": [
        "names = ['failed', 'sucessful', 'canceled', 'actual failed', 'actual successful', 'actual canceled']\n",
        "values = [cm_RF[0][0], cm_RF[1][1], cm_RF[2][2],counts[0], counts[1], counts[2]]\n",
        "plt.xticks(rotation='vertical')\n",
        "plt.bar(names, values, color=['blue','blue','blue','green','green','green'])\n",
        "\n"
      ],
      "execution_count": null,
      "outputs": [
        {
          "output_type": "execute_result",
          "data": {
            "text/plain": [
              "<BarContainer object of 6 artists>"
            ]
          },
          "metadata": {
            "tags": []
          },
          "execution_count": 105
        },
        {
          "output_type": "display_data",
          "data": {
            "image/png": "[encoded data removed]",
            "text/plain": [
              "<Figure size 432x288 with 1 Axes>"
            ]
          },
          "metadata": {
            "tags": [],
            "needs_background": "light"
          }
        }
      ]
    },
    {
      "cell_type": "markdown",
      "metadata": {
        "id": "IYaBZUlJywed"
      },
      "source": [
        "## **Cross Validation for Random Forest**"
      ]
    },
    {
      "cell_type": "code",
      "metadata": {
        "colab": {
          "base_uri": "https://localhost:8080/"
        },
        "id": "ANixDC7V1qsK",
        "outputId": "47a2ab33-ea9c-4b1d-935a-647562c2bc19"
      },
      "source": [
        "RF_accuracy_list = cross_val_score(my_RandomForest, X, y, cv=10, scoring='accuracy')\n",
        "RF_Accuracy = RF_accuracy_list.mean()\n",
        "print(RF_Accuracy)"
      ],
      "execution_count": null,
      "outputs": [
        {
          "output_type": "stream",
          "text": [
            "0.8846787201471127\n"
          ],
          "name": "stdout"
        }
      ]
    },
    {
      "cell_type": "markdown",
      "metadata": {
        "id": "Be1KtQTP2QmQ"
      },
      "source": [
        "### **Random Forest** *Accuracy* Prediction using **Cross Validation**: **88.46%** "
      ]
    },
    {
      "cell_type": "markdown",
      "metadata": {
        "id": "WkS5Ggsw5f0W"
      },
      "source": [
        "# **2) KNN**"
      ]
    },
    {
      "cell_type": "code",
      "metadata": {
        "id": "2v1s_p3x4jsO"
      },
      "source": [
        "from sklearn.neighbors import KNeighborsClassifier"
      ],
      "execution_count": null,
      "outputs": []
    },
    {
      "cell_type": "code",
      "metadata": {
        "id": "7C-C9lPL5kk5"
      },
      "source": [
        "# Specifiyng the k nearest neighbor\n",
        "k = 3\n",
        "\n",
        "knn = KNeighborsClassifier(n_neighbors=k)"
      ],
      "execution_count": null,
      "outputs": []
    },
    {
      "cell_type": "code",
      "metadata": {
        "colab": {
          "base_uri": "https://localhost:8080/"
        },
        "id": "Q-YKikGK5ppS",
        "outputId": "1f282fb4-fb7f-4fd3-d60c-d224a8100855"
      },
      "source": [
        "knn.fit(X_train,y_train)"
      ],
      "execution_count": null,
      "outputs": [
        {
          "output_type": "execute_result",
          "data": {
            "text/plain": [
              "KNeighborsClassifier(algorithm='auto', leaf_size=30, metric='minkowski',\n",
              "                     metric_params=None, n_jobs=None, n_neighbors=3, p=2,\n",
              "                     weights='uniform')"
            ]
          },
          "metadata": {
            "tags": []
          },
          "execution_count": 109
        }
      ]
    },
    {
      "cell_type": "code",
      "metadata": {
        "colab": {
          "base_uri": "https://localhost:8080/"
        },
        "id": "Kikagl-M5t5t",
        "outputId": "17bff8e4-4f96-4bfc-9137-c4ccc061bfc0"
      },
      "source": [
        "y_predict_KNN = knn.predict(X_test) \n",
        "print(y_predict_KNN)"
      ],
      "execution_count": null,
      "outputs": [
        {
          "output_type": "stream",
          "text": [
            "['failed' 'successful' 'failed' ... 'failed' 'successful' 'successful']\n"
          ],
          "name": "stdout"
        }
      ]
    },
    {
      "cell_type": "markdown",
      "metadata": {
        "id": "cpZU-CSr57Vu"
      },
      "source": [
        "### **Comparing Actual labels of testing set to Predicted labels for evaluaction**"
      ]
    },
    {
      "cell_type": "code",
      "metadata": {
        "colab": {
          "base_uri": "https://localhost:8080/"
        },
        "id": "962GLLsi597s",
        "outputId": "53314172-2071-4b1b-9a07-1a2bc1511c4e"
      },
      "source": [
        "# Compare actual labels of testing set to predicted label\n",
        "accuracy = accuracy_score(y_test, y_predict_KNN)\n",
        "print(accuracy)"
      ],
      "execution_count": null,
      "outputs": [
        {
          "output_type": "stream",
          "text": [
            "0.8767390478820727\n"
          ],
          "name": "stdout"
        }
      ]
    },
    {
      "cell_type": "markdown",
      "metadata": {
        "id": "A1SroSsU6olb"
      },
      "source": [
        "### **KNN** *Accuracy* Prediction using **data splitting**: **87.67%** "
      ]
    },
    {
      "cell_type": "markdown",
      "metadata": {
        "id": "Yp3zgCHu6iT6"
      },
      "source": [
        "Display where KNN predicted incorrectly"
      ]
    },
    {
      "cell_type": "code",
      "metadata": {
        "colab": {
          "base_uri": "https://localhost:8080/"
        },
        "id": "uM0LXLRd6CcS",
        "outputId": "dfa1725a-8a14-4604-97d9-92d8cb5cbf79"
      },
      "source": [
        "# Check the mistakes\n",
        "results = pd.DataFrame()\n",
        "\n",
        "results['actual'] = y_test\n",
        "results['prediction'] = y_predict_KNN\n",
        "\n",
        "print(results)"
      ],
      "execution_count": null,
      "outputs": [
        {
          "output_type": "stream",
          "text": [
            "            actual  prediction\n",
            "212266      failed      failed\n",
            "274571  successful  successful\n",
            "320128      failed      failed\n",
            "34014   successful  successful\n",
            "51176       failed      failed\n",
            "...            ...         ...\n",
            "172718      failed    canceled\n",
            "43707   successful  successful\n",
            "28947       failed      failed\n",
            "44258   successful  successful\n",
            "135231  successful  successful\n",
            "\n",
            "[57934 rows x 2 columns]\n"
          ],
          "name": "stdout"
        }
      ]
    },
    {
      "cell_type": "markdown",
      "metadata": {
        "id": "6xjhRU-XkobI"
      },
      "source": [
        "## **Confusion Matrix (KNN)**"
      ]
    },
    {
      "cell_type": "code",
      "metadata": {
        "colab": {
          "base_uri": "https://localhost:8080/"
        },
        "id": "c07znAh6kobJ",
        "outputId": "d2cd9515-b4ed-4069-f9c9-694e61dbd576"
      },
      "source": [
        "cm_KNN = metrics.confusion_matrix(y_predict_KNN, y_test, labels=['failed','successful','canceled'])\n",
        "print(\"Confusion matrix of Random Forest:\")\n",
        "print(cm_KNN)"
      ],
      "execution_count": null,
      "outputs": [
        {
          "output_type": "stream",
          "text": [
            "Confusion matrix of Random Forest:\n",
            "[[28465     4  4964]\n",
            " [   28 21831    97]\n",
            " [ 2039     9   497]]\n"
          ],
          "name": "stdout"
        }
      ]
    },
    {
      "cell_type": "code",
      "metadata": {
        "colab": {
          "base_uri": "https://localhost:8080/"
        },
        "id": "gg4t_EI8kobK",
        "outputId": "87bb4e4f-22d7-4fbe-905f-602eccc8d4f7"
      },
      "source": [
        "counts = y_test.value_counts()\n",
        "\n",
        "counts"
      ],
      "execution_count": null,
      "outputs": [
        {
          "output_type": "execute_result",
          "data": {
            "text/plain": [
              "failed        30532\n",
              "successful    21844\n",
              "canceled       5558\n",
              "Name: state, dtype: int64"
            ]
          },
          "metadata": {
            "tags": []
          },
          "execution_count": 114
        }
      ]
    },
    {
      "cell_type": "code",
      "metadata": {
        "colab": {
          "base_uri": "https://localhost:8080/",
          "height": 358
        },
        "id": "F_JaeUq1iGe5",
        "outputId": "13cd927d-24d1-4fe6-f92d-2c1d31cd090b"
      },
      "source": [
        "names = ['failed', 'sucessful', 'canceled', 'actual failed', 'actual successful', 'actual canceled']\n",
        "values = [cm_KNN[0][0], cm_KNN[1][1], cm_KNN[2][2],counts[0], counts[1], counts[2]]\n",
        "plt.xticks(rotation='vertical')\n",
        "plt.bar(names, values, color=['blue','blue','blue','green','green','green'])\n"
      ],
      "execution_count": null,
      "outputs": [
        {
          "output_type": "execute_result",
          "data": {
            "text/plain": [
              "<BarContainer object of 6 artists>"
            ]
          },
          "metadata": {
            "tags": []
          },
          "execution_count": 115
        },
        {
          "output_type": "display_data",
          "data": {
            "image/png": "[encoded data removed]",
            "text/plain": [
              "<Figure size 432x288 with 1 Axes>"
            ]
          },
          "metadata": {
            "tags": [],
            "needs_background": "light"
          }
        }
      ]
    },
    {
      "cell_type": "markdown",
      "metadata": {
        "id": "fZ1n7fyE6R6L"
      },
      "source": [
        "## **Cross Validation for KNN**"
      ]
    },
    {
      "cell_type": "code",
      "metadata": {
        "id": "wT093JXw6RVP"
      },
      "source": [
        "KNN_accuracy_list = cross_val_score(knn, X, y, cv=10, scoring='accuracy')"
      ],
      "execution_count": null,
      "outputs": []
    },
    {
      "cell_type": "code",
      "metadata": {
        "colab": {
          "base_uri": "https://localhost:8080/"
        },
        "id": "cEo33Nb96vaR",
        "outputId": "7deb95a1-7a6e-4a8a-c2e7-9eeb3cbae56a"
      },
      "source": [
        "KNN_Accuracy = KNN_accuracy_list.mean()\n",
        "print(KNN_Accuracy)"
      ],
      "execution_count": null,
      "outputs": [
        {
          "output_type": "stream",
          "text": [
            "0.8746224041676103\n"
          ],
          "name": "stdout"
        }
      ]
    },
    {
      "cell_type": "markdown",
      "metadata": {
        "id": "MFlCnr2g60t_"
      },
      "source": [
        "### **KNN** *Accuracy* Prediction using **Cross Validation**: **87.46%** "
      ]
    },
    {
      "cell_type": "markdown",
      "metadata": {
        "id": "KH6SUYC77NAN"
      },
      "source": [
        "# **3) Decision Tree Classifier**"
      ]
    },
    {
      "cell_type": "code",
      "metadata": {
        "id": "XlP5n7oO7RTT"
      },
      "source": [
        "from sklearn.tree import DecisionTreeClassifier"
      ],
      "execution_count": null,
      "outputs": []
    },
    {
      "cell_type": "code",
      "metadata": {
        "id": "KSu9pob27RKR"
      },
      "source": [
        "my_decisiontree = DecisionTreeClassifier()"
      ],
      "execution_count": null,
      "outputs": []
    },
    {
      "cell_type": "code",
      "metadata": {
        "colab": {
          "base_uri": "https://localhost:8080/"
        },
        "id": "bKl7QAaQ7Q-W",
        "outputId": "66ccfc7d-8dd6-4f5e-f50d-1e91dbbcc0d4"
      },
      "source": [
        "my_decisiontree.fit(X_train, y_train)"
      ],
      "execution_count": null,
      "outputs": [
        {
          "output_type": "execute_result",
          "data": {
            "text/plain": [
              "DecisionTreeClassifier(ccp_alpha=0.0, class_weight=None, criterion='gini',\n",
              "                       max_depth=None, max_features=None, max_leaf_nodes=None,\n",
              "                       min_impurity_decrease=0.0, min_impurity_split=None,\n",
              "                       min_samples_leaf=1, min_samples_split=2,\n",
              "                       min_weight_fraction_leaf=0.0, presort='deprecated',\n",
              "                       random_state=None, splitter='best')"
            ]
          },
          "metadata": {
            "tags": []
          },
          "execution_count": 120
        }
      ]
    },
    {
      "cell_type": "code",
      "metadata": {
        "colab": {
          "base_uri": "https://localhost:8080/"
        },
        "id": "myIJeu_k7YZq",
        "outputId": "391b964a-5643-48e6-bbd1-820bfaf12726"
      },
      "source": [
        "y_predict_DT = my_decisiontree.predict(X_test)\n",
        "\n",
        "print(y_predict_DT)"
      ],
      "execution_count": null,
      "outputs": [
        {
          "output_type": "stream",
          "text": [
            "['canceled' 'successful' 'canceled' ... 'failed' 'successful' 'successful']\n"
          ],
          "name": "stdout"
        }
      ]
    },
    {
      "cell_type": "code",
      "metadata": {
        "colab": {
          "base_uri": "https://localhost:8080/"
        },
        "id": "rGl1pvUM7czo",
        "outputId": "4ed9541d-5925-4119-9ad2-e113ce3368b3"
      },
      "source": [
        "accuracy = accuracy_score(y_test, y_predict_DT)\n",
        "\n",
        "print(accuracy)"
      ],
      "execution_count": null,
      "outputs": [
        {
          "output_type": "stream",
          "text": [
            "0.83810888252149\n"
          ],
          "name": "stdout"
        }
      ]
    },
    {
      "cell_type": "markdown",
      "metadata": {
        "id": "EGUWEiKn7jGp"
      },
      "source": [
        "### **Decision Tree Classifier** *Accuracy* Prediction using **data splitting**: **83.68%** "
      ]
    },
    {
      "cell_type": "markdown",
      "metadata": {
        "id": "Lrq8w7ut72-N"
      },
      "source": [
        "## **Cross Validation for Decision Tree Classifier**"
      ]
    },
    {
      "cell_type": "code",
      "metadata": {
        "colab": {
          "base_uri": "https://localhost:8080/"
        },
        "id": "-lpbbnQB7s4i",
        "outputId": "3927d7f4-edec-4e84-ca64-19d45e375ba8"
      },
      "source": [
        "DT_accuracy_list = cross_val_score(my_decisiontree, X, y, cv=10, scoring='accuracy')\n",
        "\n",
        "DT_Accuracy = DT_accuracy_list.mean()\n",
        "\n",
        "print(DT_Accuracy)"
      ],
      "execution_count": null,
      "outputs": [
        {
          "output_type": "stream",
          "text": [
            "0.8354604786246261\n"
          ],
          "name": "stdout"
        }
      ]
    },
    {
      "cell_type": "markdown",
      "metadata": {
        "id": "-J1BBoqf8DpQ"
      },
      "source": [
        "### **Decision Tree Classifier** *Accuracy* Prediction using **Cross Validation**: **83.57%** "
      ]
    },
    {
      "cell_type": "markdown",
      "metadata": {
        "id": "m-WOt3tLnlMo"
      },
      "source": [
        "## **Confusion Matrix (Decision Tree)**"
      ]
    },
    {
      "cell_type": "code",
      "metadata": {
        "colab": {
          "base_uri": "https://localhost:8080/"
        },
        "id": "9lMHqg2znqAA",
        "outputId": "448f54c2-e488-4145-83c1-c206874b11e6"
      },
      "source": [
        "cm_DT = metrics.confusion_matrix(y_predict_DT, y_test, labels=['failed','successful','canceled'])\n",
        "print(\"Confusion matrix of Random Forest:\")\n",
        "print(cm_DT)"
      ],
      "execution_count": null,
      "outputs": [
        {
          "output_type": "stream",
          "text": [
            "Confusion matrix of Random Forest:\n",
            "[[25658    16  4269]\n",
            " [   32 21699    91]\n",
            " [ 4842   129  1198]]\n"
          ],
          "name": "stdout"
        }
      ]
    },
    {
      "cell_type": "code",
      "metadata": {
        "colab": {
          "base_uri": "https://localhost:8080/"
        },
        "id": "tDy69KB8nq4_",
        "outputId": "70ff48cf-3833-4848-cdb2-e424e2e5c470"
      },
      "source": [
        "counts = y_test.value_counts()\n",
        "\n",
        "counts"
      ],
      "execution_count": null,
      "outputs": [
        {
          "output_type": "execute_result",
          "data": {
            "text/plain": [
              "failed        30532\n",
              "successful    21844\n",
              "canceled       5558\n",
              "Name: state, dtype: int64"
            ]
          },
          "metadata": {
            "tags": []
          },
          "execution_count": 125
        }
      ]
    },
    {
      "cell_type": "code",
      "metadata": {
        "colab": {
          "base_uri": "https://localhost:8080/",
          "height": 358
        },
        "id": "Cj9PIMKanqw6",
        "outputId": "8ae7984b-877f-4cb4-e2c6-f8c12d342840"
      },
      "source": [
        "names = ['failed', 'sucessful', 'canceled', 'actual failed', 'actual successful', 'actual canceled']\n",
        "values = [cm_DT[0][0], cm_DT[1][1], cm_DT[2][2],counts[0], counts[1], counts[2]]\n",
        "plt.xticks(rotation='vertical')\n",
        "plt.bar(names, values, color=['blue','blue','blue','green','green','green'])\n"
      ],
      "execution_count": null,
      "outputs": [
        {
          "output_type": "execute_result",
          "data": {
            "text/plain": [
              "<BarContainer object of 6 artists>"
            ]
          },
          "metadata": {
            "tags": []
          },
          "execution_count": 126
        },
        {
          "output_type": "display_data",
          "data": {
            "image/png": "[encoded data removed]",
            "text/plain": [
              "<Figure size 432x288 with 1 Axes>"
            ]
          },
          "metadata": {
            "tags": [],
            "needs_background": "light"
          }
        }
      ]
    },
    {
      "cell_type": "markdown",
      "metadata": {
        "id": "-IvIASWs8ZGI"
      },
      "source": [
        "# **4) Logistic Regression**"
      ]
    },
    {
      "cell_type": "code",
      "metadata": {
        "id": "DKzmYQQZ8csk"
      },
      "source": [
        "from sklearn.linear_model import LogisticRegression"
      ],
      "execution_count": null,
      "outputs": []
    },
    {
      "cell_type": "code",
      "metadata": {
        "colab": {
          "base_uri": "https://localhost:8080/"
        },
        "id": "CMOGlleF8cpv",
        "outputId": "438d8040-39a5-4ba4-f28a-83e452fa6652"
      },
      "source": [
        "my_logistic_regression = LogisticRegression()\n",
        "\n",
        "# training stage of the logistic regression\n",
        "my_logistic_regression.fit(X_train, y_train)"
      ],
      "execution_count": null,
      "outputs": [
        {
          "output_type": "execute_result",
          "data": {
            "text/plain": [
              "LogisticRegression(C=1.0, class_weight=None, dual=False, fit_intercept=True,\n",
              "                   intercept_scaling=1, l1_ratio=None, max_iter=100,\n",
              "                   multi_class='auto', n_jobs=None, penalty='l2',\n",
              "                   random_state=None, solver='lbfgs', tol=0.0001, verbose=0,\n",
              "                   warm_start=False)"
            ]
          },
          "metadata": {
            "tags": []
          },
          "execution_count": 128
        }
      ]
    },
    {
      "cell_type": "code",
      "metadata": {
        "id": "NbR2XfSO8cm_"
      },
      "source": [
        "y_predict_LR = my_logistic_regression.predict(X_test)"
      ],
      "execution_count": null,
      "outputs": []
    },
    {
      "cell_type": "code",
      "metadata": {
        "colab": {
          "base_uri": "https://localhost:8080/"
        },
        "id": "Jz-DZlq68ck3",
        "outputId": "3dd55bd9-4802-40c3-8043-8e14710e7bf4"
      },
      "source": [
        "LR_accuracy = accuracy_score(y_test, y_predict_LR)\n",
        "\n",
        "#Logistic Regression acuuracy\n",
        "print(LR_accuracy)"
      ],
      "execution_count": null,
      "outputs": [
        {
          "output_type": "stream",
          "text": [
            "0.8938619808747885\n"
          ],
          "name": "stdout"
        }
      ]
    },
    {
      "cell_type": "markdown",
      "metadata": {
        "id": "dlDVi6u18nB4"
      },
      "source": [
        "### **Logistic Regression** *Accuracy* Prediction using **data splitting**: **89.38%** "
      ]
    },
    {
      "cell_type": "markdown",
      "metadata": {
        "id": "5OPrjbaAl0d9"
      },
      "source": [
        "## **Confusion Matrix (Logistic Regression)**"
      ]
    },
    {
      "cell_type": "code",
      "metadata": {
        "colab": {
          "base_uri": "https://localhost:8080/"
        },
        "id": "CbuSPsuXl0eF",
        "outputId": "2d7b4a14-0851-4a79-cd5d-d12319ec9b53"
      },
      "source": [
        "cm_LR = metrics.confusion_matrix(y_predict_LR, y_test, labels=['failed','successful','canceled'])\n",
        "print(\"Confusion matrix of Random Forest:\")\n",
        "print(cm_LR)"
      ],
      "execution_count": null,
      "outputs": [
        {
          "output_type": "stream",
          "text": [
            "Confusion matrix of Random Forest:\n",
            "[[29941     1  5350]\n",
            " [  581 21843   207]\n",
            " [   10     0     1]]\n"
          ],
          "name": "stdout"
        }
      ]
    },
    {
      "cell_type": "code",
      "metadata": {
        "colab": {
          "base_uri": "https://localhost:8080/"
        },
        "id": "kB2ZMmYjl0eF",
        "outputId": "c56709c8-8669-4455-a4c5-a2dd4b463767"
      },
      "source": [
        "counts = y_test.value_counts()\n",
        "\n",
        "counts"
      ],
      "execution_count": null,
      "outputs": [
        {
          "output_type": "execute_result",
          "data": {
            "text/plain": [
              "failed        30532\n",
              "successful    21844\n",
              "canceled       5558\n",
              "Name: state, dtype: int64"
            ]
          },
          "metadata": {
            "tags": []
          },
          "execution_count": 132
        }
      ]
    },
    {
      "cell_type": "code",
      "metadata": {
        "colab": {
          "base_uri": "https://localhost:8080/",
          "height": 358
        },
        "id": "x9sIW8-6icVF",
        "outputId": "fb283aa7-75dd-4c89-a7b9-81fecea70dcc"
      },
      "source": [
        "names = ['failed', 'sucessful', 'canceled', 'actual failed', 'actual successful', 'actual canceled']\n",
        "values = [cm_LR[0][0], cm_LR[1][1], cm_LR[2][2],counts[0], counts[1], counts[2]]\n",
        "plt.xticks(rotation='vertical')\n",
        "plt.bar(names, values, color=['blue','blue','blue','green','green','green'])"
      ],
      "execution_count": null,
      "outputs": [
        {
          "output_type": "execute_result",
          "data": {
            "text/plain": [
              "<BarContainer object of 6 artists>"
            ]
          },
          "metadata": {
            "tags": []
          },
          "execution_count": 133
        },
        {
          "output_type": "display_data",
          "data": {
            "image/png": "[encoded data removed]",
            "text/plain": [
              "<Figure size 432x288 with 1 Axes>"
            ]
          },
          "metadata": {
            "tags": [],
            "needs_background": "light"
          }
        }
      ]
    },
    {
      "cell_type": "markdown",
      "metadata": {
        "id": "o4ELHA_08xt8"
      },
      "source": [
        "## **Cross Validation for Logistic Regression**"
      ]
    },
    {
      "cell_type": "code",
      "metadata": {
        "id": "TiDCVtj18ceh"
      },
      "source": [
        "LR_accuracy_list = cross_val_score(my_logistic_regression, X, y, cv=10, scoring='accuracy')"
      ],
      "execution_count": null,
      "outputs": []
    },
    {
      "cell_type": "code",
      "metadata": {
        "colab": {
          "base_uri": "https://localhost:8080/"
        },
        "id": "_7FNP4qV84YF",
        "outputId": "5b275f9b-1b63-492a-bb18-5c343e9224d1"
      },
      "source": [
        "LR_accuracy = LR_accuracy_list.mean()\n",
        "\n",
        "print(LR_accuracy)"
      ],
      "execution_count": null,
      "outputs": [
        {
          "output_type": "stream",
          "text": [
            "0.8940273219833037\n"
          ],
          "name": "stdout"
        }
      ]
    },
    {
      "cell_type": "markdown",
      "metadata": {
        "id": "pDfMZVrT88yX"
      },
      "source": [
        "### **Logistic Regression** *Accuracy* Prediction using **Cross Validation**: **89.40%** "
      ]
    },
    {
      "cell_type": "markdown",
      "metadata": {
        "id": "iBLy80b1NcsO"
      },
      "source": [
        "#**5) AdaBoost**"
      ]
    },
    {
      "cell_type": "code",
      "metadata": {
        "colab": {
          "base_uri": "https://localhost:8080/"
        },
        "id": "FMEg1xXPNbnh",
        "outputId": "3de96749-9d18-4289-ccaf-c9417ad83ae6"
      },
      "source": [
        "from sklearn.ensemble import AdaBoostClassifier\n",
        "my_AdaBoost = AdaBoostClassifier(n_estimators = 29,random_state=2)\n",
        "\n",
        "my_AdaBoost.fit(X_train, y_train)\n",
        "y_predict_ada = my_AdaBoost.predict(X_test)\n",
        "score = accuracy_score(y_test, y_predict_ada)\n",
        "print(\"Accuracy Score: \" + str(score))"
      ],
      "execution_count": null,
      "outputs": [
        {
          "output_type": "stream",
          "text": [
            "Accuracy Score: 0.8712155211102289\n"
          ],
          "name": "stdout"
        }
      ]
    },
    {
      "cell_type": "markdown",
      "metadata": {
        "id": "owDTP6B4OsxP"
      },
      "source": [
        "## **Confusion Matrix (AdaBoost)**"
      ]
    },
    {
      "cell_type": "code",
      "metadata": {
        "colab": {
          "base_uri": "https://localhost:8080/"
        },
        "id": "eoSDvGzWQcGB",
        "outputId": "e76d9d3c-d113-4382-e43c-70d6dca80794"
      },
      "source": [
        "cm_ada = metrics.confusion_matrix(y_predict_ada, y_test, labels=['failed','successful','canceled'])\n",
        "print(\"Confusion matrix of Random Forest:\")\n",
        "print(cm_ada)"
      ],
      "execution_count": null,
      "outputs": [
        {
          "output_type": "stream",
          "text": [
            "Confusion matrix of Random Forest:\n",
            "[[29430   790  5325]\n",
            " [ 1088 21037   227]\n",
            " [   14    17     6]]\n"
          ],
          "name": "stdout"
        }
      ]
    },
    {
      "cell_type": "code",
      "metadata": {
        "colab": {
          "base_uri": "https://localhost:8080/"
        },
        "id": "nAKzeC12QcGF",
        "outputId": "f070ff77-08a2-4181-9145-b1348a9c974f"
      },
      "source": [
        "counts = y_test.value_counts()\n",
        "\n",
        "counts"
      ],
      "execution_count": null,
      "outputs": [
        {
          "output_type": "execute_result",
          "data": {
            "text/plain": [
              "failed        30532\n",
              "successful    21844\n",
              "canceled       5558\n",
              "Name: state, dtype: int64"
            ]
          },
          "metadata": {
            "tags": []
          },
          "execution_count": 138
        }
      ]
    },
    {
      "cell_type": "code",
      "metadata": {
        "colab": {
          "base_uri": "https://localhost:8080/"
        },
        "id": "ufrigBkaQcGG",
        "outputId": "bfd9d6ce-c327-423e-8fc1-a42bf6053a50"
      },
      "source": [
        "names = ['failed', 'sucessful', 'canceled', 'actual failed', 'actual successful', 'actual canceled']\n",
        "values = [cm_ada[0][0], cm_ada[1][1], cm_ada[2][2],counts[0], counts[1], counts[2]]\n",
        "plt.xticks(rotation='vertical')\n",
        "plt.bar(names, values, color=['blue','blue','blue','green','green','green'])"
      ],
      "execution_count": null,
      "outputs": [
        {
          "output_type": "execute_result",
          "data": {
            "text/plain": [
              "<BarContainer object of 6 artists>"
            ]
          },
          "metadata": {
            "tags": []
          },
          "execution_count": 139
        },
        {
          "output_type": "display_data",
          "data": {
            "image/png": "[encoded data removed]",
            "text/plain": [
              "<Figure size 432x288 with 1 Axes>"
            ]
          },
          "metadata": {
            "tags": [],
            "needs_background": "light"
          }
        }
      ]
    },
    {
      "cell_type": "markdown",
      "metadata": {
        "id": "GcHmWDIvVsvA"
      },
      "source": [
        "# **6) XGBoost**"
      ]
    },
    {
      "cell_type": "code",
      "metadata": {
        "colab": {
          "base_uri": "https://localhost:8080/"
        },
        "id": "WDxW7oNKVyzJ",
        "outputId": "7b05b3eb-1e8b-4907-ade7-89cdf2e1b2b3"
      },
      "source": [
        "from xgboost import XGBClassifier\n",
        "my_XGBoost = XGBClassifier(n_estimators = 29,random_state=2, use_label_encoder=False, verbosity = 0)\n",
        "\n",
        "my_XGBoost.fit(X_train, y_train)\n",
        "y_predict_xgb = my_XGBoost.predict(X_test)\n",
        "score = accuracy_score(y_test, y_predict_xgb)\n",
        "print(\"Accuracy Score: \" + str(score))"
      ],
      "execution_count": null,
      "outputs": [
        {
          "output_type": "stream",
          "text": [
            "Accuracy Score: 0.8719232229778714\n"
          ],
          "name": "stdout"
        }
      ]
    },
    {
      "cell_type": "markdown",
      "metadata": {
        "id": "xvYCbK77WO05"
      },
      "source": [
        "## **Confusion Matrix (XGBoost)**"
      ]
    },
    {
      "cell_type": "code",
      "metadata": {
        "colab": {
          "base_uri": "https://localhost:8080/"
        },
        "id": "acwgIq-RWtZb",
        "outputId": "0234e143-0372-4e27-d202-f5c08b27007b"
      },
      "source": [
        "cm_xgb = metrics.confusion_matrix(y_predict_xgb, y_test, labels=['failed','successful','canceled'])\n",
        "print(\"Confusion matrix of Random Forest:\")\n",
        "print(cm_xgb)"
      ],
      "execution_count": null,
      "outputs": [
        {
          "output_type": "stream",
          "text": [
            "Confusion matrix of Random Forest:\n",
            "[[28926   256  5161]\n",
            " [ 1606 21588   397]\n",
            " [    0     0     0]]\n"
          ],
          "name": "stdout"
        }
      ]
    },
    {
      "cell_type": "code",
      "metadata": {
        "colab": {
          "base_uri": "https://localhost:8080/"
        },
        "id": "2arY9RZCWtZc",
        "outputId": "40cb297f-b95f-49f6-9d37-5aea82725631"
      },
      "source": [
        "counts = y_test.value_counts()\n",
        "\n",
        "counts"
      ],
      "execution_count": null,
      "outputs": [
        {
          "output_type": "execute_result",
          "data": {
            "text/plain": [
              "failed        30532\n",
              "successful    21844\n",
              "canceled       5558\n",
              "Name: state, dtype: int64"
            ]
          },
          "metadata": {
            "tags": []
          },
          "execution_count": 142
        }
      ]
    },
    {
      "cell_type": "code",
      "metadata": {
        "colab": {
          "base_uri": "https://localhost:8080/"
        },
        "id": "Xn2p5F7bWtZc",
        "outputId": "313145a7-769a-485c-9877-9b5dec0a76b9"
      },
      "source": [
        "names = ['failed', 'sucessful', 'canceled', 'actual failed', 'actual successful', 'actual canceled']\n",
        "values = [cm_xgb[0][0], cm_xgb[1][1], cm_xgb[2][2],counts[0], counts[1], counts[2]]\n",
        "plt.xticks(rotation='vertical')\n",
        "plt.bar(names, values, color=['blue','blue','blue','green','green','green'])"
      ],
      "execution_count": null,
      "outputs": [
        {
          "output_type": "execute_result",
          "data": {
            "text/plain": [
              "<BarContainer object of 6 artists>"
            ]
          },
          "metadata": {
            "tags": []
          },
          "execution_count": 143
        },
        {
          "output_type": "display_data",
          "data": {
            "image/png": "[encoded data removed]",
            "text/plain": [
              "<Figure size 432x288 with 1 Axes>"
            ]
          },
          "metadata": {
            "tags": [],
            "needs_background": "light"
          }
        }
      ]
    },
    {
      "cell_type": "markdown",
      "metadata": {
        "id": "4DJzckCxq8P-"
      },
      "source": [
        "# **7)ANN using SKLearn**"
      ]
    },
    {
      "cell_type": "code",
      "metadata": {
        "colab": {
          "base_uri": "https://localhost:8080/"
        },
        "id": "ZPHtumURvNiV",
        "outputId": "83bda8a8-da9f-4595-bdb7-dcebf6149dd2"
      },
      "source": [
        "my_ANN = MLPClassifier(hidden_layer_sizes=(8,6,4), activation= 'logistic', \n",
        "                       solver='adam', alpha=1e-5, random_state=2, \n",
        "                       learning_rate_init = 0.1, verbose=True, tol=0.0001)\n",
        "my_ANN.fit(X_train, y_train)\n",
        "y_predict_ann = my_ANN.predict(X_test)\n",
        "score_ann = accuracy_score(y_test, y_predict_ann)\n",
        "print('\\n','accuracy: ',score_ann)"
      ],
      "execution_count": null,
      "outputs": [
        {
          "output_type": "stream",
          "text": [
            "Iteration 1, loss = 0.38149182\n",
            "Iteration 2, loss = 0.35056610\n",
            "Iteration 3, loss = 0.36111505\n",
            "Iteration 4, loss = 0.30521953\n",
            "Iteration 5, loss = 0.40821566\n",
            "Iteration 6, loss = 0.44166969\n",
            "Iteration 7, loss = 0.43900058\n",
            "Iteration 8, loss = 0.32127483\n",
            "Iteration 9, loss = 0.30136475\n",
            "Iteration 10, loss = 0.34468237\n",
            "Iteration 11, loss = 0.38428914\n",
            "Iteration 12, loss = 0.36579640\n",
            "Iteration 13, loss = 0.35057727\n",
            "Iteration 14, loss = 0.39795114\n",
            "Iteration 15, loss = 0.54710838\n",
            "Iteration 16, loss = 0.34074086\n",
            "Iteration 17, loss = 0.31834439\n",
            "Iteration 18, loss = 0.29993105\n",
            "Iteration 19, loss = 0.28932464\n",
            "Iteration 20, loss = 0.29221152\n",
            "Iteration 21, loss = 0.35827187\n",
            "Iteration 22, loss = 0.29234271\n",
            "Iteration 23, loss = 0.33147043\n",
            "Iteration 24, loss = 0.36071844\n",
            "Iteration 25, loss = 0.36361109\n",
            "Iteration 26, loss = 0.34744515\n",
            "Iteration 27, loss = 0.40124701\n",
            "Iteration 28, loss = 0.40786275\n",
            "Iteration 29, loss = 0.33662238\n",
            "Iteration 30, loss = 0.31603459\n",
            "Training loss did not improve more than tol=0.000100 for 10 consecutive epochs. Stopping.\n",
            "\n",
            " accuracy:  0.8976594055304312\n"
          ],
          "name": "stdout"
        }
      ]
    },
    {
      "cell_type": "markdown",
      "metadata": {
        "id": "DSIgxYlUSipq"
      },
      "source": [
        "## Confusion Matrix (ANN)"
      ]
    },
    {
      "cell_type": "code",
      "metadata": {
        "colab": {
          "base_uri": "https://localhost:8080/"
        },
        "id": "EfgF6UhWZ_ce",
        "outputId": "f53cc8de-db32-42a3-dbcb-13c17d124cd4"
      },
      "source": [
        "cm_ANN = metrics.confusion_matrix(y_predict_ann, y_test, labels=['failed','successful','canceled'])\n",
        "print(\"Confusion matrix of Random Forest:\")\n",
        "print(cm_ANN)"
      ],
      "execution_count": null,
      "outputs": [
        {
          "output_type": "stream",
          "text": [
            "Confusion matrix of Random Forest:\n",
            "[[30183    22  5380]\n",
            " [  349 21822   178]\n",
            " [    0     0     0]]\n"
          ],
          "name": "stdout"
        }
      ]
    },
    {
      "cell_type": "code",
      "metadata": {
        "colab": {
          "base_uri": "https://localhost:8080/"
        },
        "id": "w6HzAj4RZ_ci",
        "outputId": "da2b988d-2bc0-402b-f992-27681eeff4a9"
      },
      "source": [
        "counts = y_test.value_counts()\n",
        "counts"
      ],
      "execution_count": null,
      "outputs": [
        {
          "output_type": "execute_result",
          "data": {
            "text/plain": [
              "failed        30532\n",
              "successful    21844\n",
              "canceled       5558\n",
              "Name: state, dtype: int64"
            ]
          },
          "metadata": {
            "tags": []
          },
          "execution_count": 146
        }
      ]
    },
    {
      "cell_type": "code",
      "metadata": {
        "id": "2m6yW0qT03zS",
        "colab": {
          "base_uri": "https://localhost:8080/",
          "height": 70
        },
        "outputId": "bbdaffb3-5120-40ae-fe64-deeaeea848cc"
      },
      "source": [
        "names = ['failed', 'sucessful', 'canceled', 'actual failed', 'actual successful', 'actual canceled']\n",
        "values = [cm_ANN[0][0], cm_ANN[1][1], cm_ANN[2][2],counts[0], counts[1], counts[2]]\n",
        "plt.xticks(rotation='vertical')\n",
        "plt.bar(names, values, color=['blue','blue','blue','green','green','green'])"
      ],
      "execution_count": null,
      "outputs": [
        {
          "output_type": "execute_result",
          "data": {
            "text/plain": [
              "<BarContainer object of 6 artists>"
            ]
          },
          "metadata": {
            "tags": []
          },
          "execution_count": 147
        },
        {
          "output_type": "display_data",
          "data": {
            "image/png": "[encoded data removed]",
            "text/plain": [
              "<Figure size 432x288 with 1 Axes>"
            ]
          },
          "metadata": {
            "tags": [],
            "needs_background": "light"
          }
        }
      ]
    },
    {
      "cell_type": "markdown",
      "metadata": {
        "id": "3kxDniqVy5Q1"
      },
      "source": [
        "## Cross Validation for ANN"
      ]
    },
    {
      "cell_type": "code",
      "metadata": {
        "colab": {
          "base_uri": "https://localhost:8080/"
        },
        "id": "Jp8Ib5ixy2DV",
        "outputId": "e860ef2b-24c9-4dfd-c231-d31972d50def"
      },
      "source": [
        "accuracy_list = cross_val_score(my_ANN, X, y, cv=10, scoring='accuracy')"
      ],
      "execution_count": null,
      "outputs": [
        {
          "output_type": "stream",
          "text": [
            "Iteration 1, loss = 0.42364700\n",
            "Iteration 2, loss = 0.48370914\n",
            "Iteration 3, loss = 0.37002535\n",
            "Iteration 4, loss = 0.40678034\n",
            "Iteration 5, loss = 0.37125904\n",
            "Iteration 6, loss = 0.38507729\n",
            "Iteration 7, loss = 0.33188086\n",
            "Iteration 8, loss = 0.45483140\n",
            "Iteration 9, loss = 0.40978161\n",
            "Iteration 10, loss = 0.44516200\n",
            "Iteration 11, loss = 0.31028153\n",
            "Iteration 12, loss = 0.31752564\n",
            "Iteration 13, loss = 0.31975271\n",
            "Iteration 14, loss = 0.31055367\n",
            "Iteration 15, loss = 0.33965982\n",
            "Iteration 16, loss = 0.31547629\n",
            "Iteration 17, loss = 0.44720779\n",
            "Iteration 18, loss = 0.85402530\n",
            "Iteration 19, loss = 0.93717018\n",
            "Iteration 20, loss = 0.90382672\n",
            "Iteration 21, loss = 0.48457564\n",
            "Iteration 22, loss = 0.37239740\n",
            "Training loss did not improve more than tol=0.000100 for 10 consecutive epochs. Stopping.\n",
            "Iteration 1, loss = 0.48709093\n",
            "Iteration 2, loss = 0.36835458\n",
            "Iteration 3, loss = 0.34562490\n",
            "Iteration 4, loss = 0.31585733\n",
            "Iteration 5, loss = 0.32244943\n",
            "Iteration 6, loss = 0.50210691\n",
            "Iteration 7, loss = 0.46113237\n",
            "Iteration 8, loss = 0.35165291\n",
            "Iteration 9, loss = 0.40851867\n",
            "Iteration 10, loss = 0.37569938\n",
            "Iteration 11, loss = 0.36417145\n",
            "Iteration 12, loss = 0.36133997\n",
            "Iteration 13, loss = 0.38408048\n",
            "Iteration 14, loss = 0.36395247\n",
            "Iteration 15, loss = 0.36928754\n",
            "Training loss did not improve more than tol=0.000100 for 10 consecutive epochs. Stopping.\n",
            "Iteration 1, loss = 0.76823009\n",
            "Iteration 2, loss = 0.48369863\n",
            "Iteration 3, loss = 0.53511250\n",
            "Iteration 4, loss = 0.39287439\n",
            "Iteration 5, loss = 0.45185294\n",
            "Iteration 6, loss = 0.44012893\n",
            "Iteration 7, loss = 0.61469588\n",
            "Iteration 8, loss = 0.34090884\n",
            "Iteration 9, loss = 0.37508308\n",
            "Iteration 10, loss = 0.33645646\n",
            "Iteration 11, loss = 0.36573484\n",
            "Iteration 12, loss = 0.35832525\n",
            "Iteration 13, loss = 0.36629521\n",
            "Iteration 14, loss = 0.36739521\n",
            "Iteration 15, loss = 0.45615434\n",
            "Iteration 16, loss = 0.87291843\n",
            "Iteration 17, loss = 0.82394833\n",
            "Iteration 18, loss = 0.36165506\n",
            "Iteration 19, loss = 0.30699485\n",
            "Iteration 20, loss = 0.30229477\n",
            "Iteration 21, loss = 0.32843191\n",
            "Iteration 22, loss = 0.42332216\n",
            "Iteration 23, loss = 0.38586091\n",
            "Iteration 24, loss = 0.37591206\n",
            "Iteration 25, loss = 0.52802836\n",
            "Iteration 26, loss = 0.42255483\n",
            "Iteration 27, loss = 0.31845872\n",
            "Iteration 28, loss = 0.32226072\n",
            "Iteration 29, loss = 0.36269265\n",
            "Iteration 30, loss = 0.36369006\n",
            "Iteration 31, loss = 0.36652358\n",
            "Training loss did not improve more than tol=0.000100 for 10 consecutive epochs. Stopping.\n",
            "Iteration 1, loss = 0.41998907\n",
            "Iteration 2, loss = 0.41213593\n",
            "Iteration 3, loss = 0.34802960\n",
            "Iteration 4, loss = 0.38633072\n",
            "Iteration 5, loss = 0.38549552\n",
            "Iteration 6, loss = 0.37812558\n",
            "Iteration 7, loss = 0.31022435\n",
            "Iteration 8, loss = 0.32725590\n",
            "Iteration 9, loss = 0.33628702\n",
            "Iteration 10, loss = 0.32321828\n",
            "Iteration 11, loss = 0.39576568\n",
            "Iteration 12, loss = 0.39875375\n",
            "Iteration 13, loss = 0.30551786\n",
            "Iteration 14, loss = 0.30795021\n",
            "Iteration 15, loss = 0.31113519\n",
            "Iteration 16, loss = 0.31578618\n",
            "Iteration 17, loss = 0.33095395\n",
            "Iteration 18, loss = 0.33513825\n",
            "Iteration 19, loss = 0.30014446\n",
            "Iteration 20, loss = 0.30111336\n",
            "Iteration 21, loss = 0.30144769\n",
            "Iteration 22, loss = 0.33697196\n",
            "Iteration 23, loss = 0.33047528\n",
            "Iteration 24, loss = 0.31739117\n",
            "Iteration 25, loss = 0.28772741\n",
            "Iteration 26, loss = 0.32179965\n",
            "Iteration 27, loss = 0.31284275\n",
            "Iteration 28, loss = 0.34781625\n",
            "Iteration 29, loss = 0.34095577\n",
            "Iteration 30, loss = 0.32666997\n",
            "Iteration 31, loss = 0.32159192\n",
            "Iteration 32, loss = 0.32688125\n",
            "Iteration 33, loss = 0.30600652\n",
            "Iteration 34, loss = 0.30885433\n",
            "Iteration 35, loss = 0.38483321\n",
            "Iteration 36, loss = 0.31693562\n",
            "Training loss did not improve more than tol=0.000100 for 10 consecutive epochs. Stopping.\n",
            "Iteration 1, loss = 0.44297162\n",
            "Iteration 2, loss = 0.70652501\n",
            "Iteration 3, loss = 0.36844511\n",
            "Iteration 4, loss = 0.35520735\n",
            "Iteration 5, loss = 0.37615727\n",
            "Iteration 6, loss = 0.35172132\n",
            "Iteration 7, loss = 0.40942931\n",
            "Iteration 8, loss = 0.39444843\n",
            "Iteration 9, loss = 0.39850143\n",
            "Iteration 10, loss = 0.41325703\n",
            "Iteration 11, loss = 0.43608798\n",
            "Iteration 12, loss = 0.36757487\n",
            "Iteration 13, loss = 0.39554207\n",
            "Iteration 14, loss = 0.34751066\n",
            "Iteration 15, loss = 0.33959068\n",
            "Iteration 16, loss = 0.33137561\n",
            "Iteration 17, loss = 0.39678511\n",
            "Iteration 18, loss = 0.37811524\n",
            "Iteration 19, loss = 0.35120948\n",
            "Iteration 20, loss = 0.37232557\n",
            "Iteration 21, loss = 0.36588681\n",
            "Iteration 22, loss = 0.36464701\n",
            "Iteration 23, loss = 0.38446392\n",
            "Iteration 24, loss = 0.35757126\n",
            "Iteration 25, loss = 0.48197003\n",
            "Iteration 26, loss = 0.34258733\n",
            "Iteration 27, loss = 0.36870205\n",
            "Training loss did not improve more than tol=0.000100 for 10 consecutive epochs. Stopping.\n",
            "Iteration 1, loss = 0.55807753\n",
            "Iteration 2, loss = 0.58413032\n",
            "Iteration 3, loss = 0.84854577\n",
            "Iteration 4, loss = 0.41726143\n",
            "Iteration 5, loss = 0.38552530\n",
            "Iteration 6, loss = 0.35487015\n",
            "Iteration 7, loss = 0.32755080\n",
            "Iteration 8, loss = 0.39125285\n",
            "Iteration 9, loss = 0.69047535\n",
            "Iteration 10, loss = 0.29946377\n",
            "Iteration 11, loss = 0.33610711\n",
            "Iteration 12, loss = 0.38013991\n",
            "Iteration 13, loss = 0.35959560\n",
            "Iteration 14, loss = 0.35727027\n",
            "Iteration 15, loss = 0.35443627\n",
            "Iteration 16, loss = 0.35392212\n",
            "Iteration 17, loss = 0.37493921\n",
            "Iteration 18, loss = 0.41103824\n",
            "Iteration 19, loss = 0.38690956\n",
            "Iteration 20, loss = 0.31427334\n",
            "Iteration 21, loss = 0.32811281\n",
            "Training loss did not improve more than tol=0.000100 for 10 consecutive epochs. Stopping.\n",
            "Iteration 1, loss = 0.55086456\n",
            "Iteration 2, loss = 0.57855563\n",
            "Iteration 3, loss = 0.91421357\n",
            "Iteration 4, loss = 0.50385955\n",
            "Iteration 5, loss = 0.43891288\n",
            "Iteration 6, loss = 0.42679603\n",
            "Iteration 7, loss = 0.42479954\n",
            "Iteration 8, loss = 0.40312128\n",
            "Iteration 9, loss = 0.41675269\n",
            "Iteration 10, loss = 0.39502405\n",
            "Iteration 11, loss = 0.33944089\n",
            "Iteration 12, loss = 0.31950776\n",
            "Iteration 13, loss = 0.33790836\n",
            "Iteration 14, loss = 0.35417930\n",
            "Iteration 15, loss = 0.34169314\n",
            "Iteration 16, loss = 0.33476054\n",
            "Iteration 17, loss = 0.31152357\n",
            "Iteration 18, loss = 0.33280320\n",
            "Iteration 19, loss = 0.31792014\n",
            "Iteration 20, loss = 0.32224419\n",
            "Iteration 21, loss = 0.32978962\n",
            "Iteration 22, loss = 0.31357654\n",
            "Iteration 23, loss = 0.38150524\n",
            "Iteration 24, loss = 0.37506326\n",
            "Iteration 25, loss = 0.35879117\n",
            "Iteration 26, loss = 0.30922589\n",
            "Iteration 27, loss = 0.31137384\n",
            "Iteration 28, loss = 0.34576318\n",
            "Iteration 29, loss = 0.34896242\n",
            "Iteration 30, loss = 0.32728494\n",
            "Iteration 31, loss = 0.30832149\n",
            "Iteration 32, loss = 0.36511469\n",
            "Iteration 33, loss = 0.37655198\n",
            "Iteration 34, loss = 0.36593594\n",
            "Iteration 35, loss = 0.31580728\n",
            "Iteration 36, loss = 0.30977589\n",
            "Iteration 37, loss = 0.30207335\n",
            "Iteration 38, loss = 0.31375488\n",
            "Iteration 39, loss = 0.31659496\n",
            "Iteration 40, loss = 0.31253221\n",
            "Iteration 41, loss = 0.32255246\n",
            "Iteration 42, loss = 0.33424669\n",
            "Iteration 43, loss = 0.30538119\n",
            "Iteration 44, loss = 0.30027079\n",
            "Iteration 45, loss = 0.29998061\n",
            "Iteration 46, loss = 0.29951201\n",
            "Iteration 47, loss = 0.31622092\n",
            "Iteration 48, loss = 0.31479073\n",
            "Iteration 49, loss = 0.30699471\n",
            "Iteration 50, loss = 0.30668966\n",
            "Iteration 51, loss = 0.30666999\n",
            "Iteration 52, loss = 0.30641972\n",
            "Iteration 53, loss = 0.30688156\n",
            "Iteration 54, loss = 0.31307407\n",
            "Iteration 55, loss = 0.32389058\n",
            "Iteration 56, loss = 0.32329225\n",
            "Iteration 57, loss = 0.30786149\n",
            "Training loss did not improve more than tol=0.000100 for 10 consecutive epochs. Stopping.\n",
            "Iteration 1, loss = 0.50518200\n",
            "Iteration 2, loss = 0.88363713\n",
            "Iteration 3, loss = 0.69166831\n",
            "Iteration 4, loss = 0.40266235\n",
            "Iteration 5, loss = 0.89399317\n",
            "Iteration 6, loss = 0.60475848\n",
            "Iteration 7, loss = 0.41302230\n",
            "Iteration 8, loss = 0.33231016\n",
            "Iteration 9, loss = 0.33067106\n",
            "Iteration 10, loss = 0.49222168\n",
            "Iteration 11, loss = 0.37442508\n",
            "Iteration 12, loss = 0.45252111\n",
            "Iteration 13, loss = 0.44558291\n",
            "Iteration 14, loss = 0.38128800\n",
            "Iteration 15, loss = 0.33923789\n",
            "Iteration 16, loss = 0.36558180\n",
            "Iteration 17, loss = 0.38732905\n",
            "Iteration 18, loss = 0.36141137\n",
            "Iteration 19, loss = 0.36158344\n",
            "Iteration 20, loss = 0.41736682\n",
            "Training loss did not improve more than tol=0.000100 for 10 consecutive epochs. Stopping.\n",
            "Iteration 1, loss = 0.59582656\n",
            "Iteration 2, loss = 0.64619205\n",
            "Iteration 3, loss = 0.32840669\n",
            "Iteration 4, loss = 0.32248485\n",
            "Iteration 5, loss = 0.37137542\n",
            "Iteration 6, loss = 0.33384801\n",
            "Iteration 7, loss = 0.34183226\n",
            "Iteration 8, loss = 0.35764112\n",
            "Iteration 9, loss = 0.35642500\n",
            "Iteration 10, loss = 0.35587398\n",
            "Iteration 11, loss = 0.33997105\n",
            "Iteration 12, loss = 0.34122469\n",
            "Iteration 13, loss = 0.34037906\n",
            "Iteration 14, loss = 0.33998341\n",
            "Iteration 15, loss = 0.33524328\n",
            "Training loss did not improve more than tol=0.000100 for 10 consecutive epochs. Stopping.\n",
            "Iteration 1, loss = 0.48499826\n",
            "Iteration 2, loss = 0.35529373\n",
            "Iteration 3, loss = 0.40849027\n",
            "Iteration 4, loss = 0.45072866\n",
            "Iteration 5, loss = 0.44554917\n",
            "Iteration 6, loss = 0.37959972\n",
            "Iteration 7, loss = 0.50604355\n",
            "Iteration 8, loss = 0.43231821\n",
            "Iteration 9, loss = 0.37780695\n",
            "Iteration 10, loss = 0.37395665\n",
            "Iteration 11, loss = 0.43669718\n",
            "Iteration 12, loss = 0.47288716\n",
            "Iteration 13, loss = 0.44801739\n",
            "Training loss did not improve more than tol=0.000100 for 10 consecutive epochs. Stopping.\n"
          ],
          "name": "stdout"
        }
      ]
    },
    {
      "cell_type": "code",
      "metadata": {
        "colab": {
          "base_uri": "https://localhost:8080/"
        },
        "id": "5TCDE586JEpq",
        "outputId": "17745309-dd85-4662-b70d-744f23d967ee"
      },
      "source": [
        "accuracy_cv = accuracy_list.mean()\n",
        "print(accuracy_cv)"
      ],
      "execution_count": null,
      "outputs": [
        {
          "output_type": "stream",
          "text": [
            "0.8840917324437747\n"
          ],
          "name": "stdout"
        }
      ]
    },
    {
      "cell_type": "markdown",
      "metadata": {
        "id": "BnajXtZVSOoI"
      },
      "source": [
        "# 8)Support Vector Machine (SVM)"
      ]
    },
    {
      "cell_type": "code",
      "metadata": {
        "id": "O8X0hDuwJFUw"
      },
      "source": [
        "from sklearn.svm import LinearSVC"
      ],
      "execution_count": null,
      "outputs": []
    },
    {
      "cell_type": "code",
      "metadata": {
        "id": "UTF4twHK3CSY",
        "colab": {
          "base_uri": "https://localhost:8080/"
        },
        "outputId": "989e248c-6eaf-4fe6-bc6b-798529ceba93"
      },
      "source": [
        "clf = LinearSVC(C=1, random_state=2)\n",
        "clf.fit(X_train,y_train)\n",
        "y_predict_svm = clf.predict(X_test)\n",
        "score_svm = accuracy_score(y_test, y_predict_svm)\n",
        "print('\\n','accuracy: ',score_svm)"
      ],
      "execution_count": null,
      "outputs": [
        {
          "output_type": "stream",
          "text": [
            "\n",
            " accuracy:  0.8627576207408431\n"
          ],
          "name": "stdout"
        },
        {
          "output_type": "stream",
          "text": [
            "/usr/local/lib/python3.7/dist-packages/sklearn/svm/_base.py:947: ConvergenceWarning: Liblinear failed to converge, increase the number of iterations.\n",
            "  \"the number of iterations.\", ConvergenceWarning)\n"
          ],
          "name": "stderr"
        }
      ]
    },
    {
      "cell_type": "markdown",
      "metadata": {
        "id": "rXqBKVhVSq6z"
      },
      "source": [
        "## Confusion Matrix (SVM)"
      ]
    },
    {
      "cell_type": "code",
      "metadata": {
        "colab": {
          "base_uri": "https://localhost:8080/"
        },
        "id": "MjQw8g1MoNgb",
        "outputId": "66265a73-f351-44ad-bd52-3b815a7f0666"
      },
      "source": [
        "cm_svm = metrics.confusion_matrix(y_predict_svm, y_test, labels=['failed','successful','canceled'])\n",
        "print(\"Confusion matrix of Random Forest:\")\n",
        "print(cm_svm)"
      ],
      "execution_count": null,
      "outputs": [
        {
          "output_type": "stream",
          "text": [
            "Confusion matrix of Random Forest:\n",
            "[[29280    55  5230]\n",
            " [  304 20501   126]\n",
            " [  948  1288   202]]\n"
          ],
          "name": "stdout"
        }
      ]
    },
    {
      "cell_type": "code",
      "metadata": {
        "colab": {
          "base_uri": "https://localhost:8080/"
        },
        "id": "DvbNSNPNoNgd",
        "outputId": "7fa3f21b-4fc6-4ea1-cec2-8ec07565536d"
      },
      "source": [
        "counts = y_test.value_counts()\n",
        "counts"
      ],
      "execution_count": null,
      "outputs": [
        {
          "output_type": "execute_result",
          "data": {
            "text/plain": [
              "failed        30532\n",
              "successful    21844\n",
              "canceled       5558\n",
              "Name: state, dtype: int64"
            ]
          },
          "metadata": {
            "tags": []
          },
          "execution_count": 74
        }
      ]
    },
    {
      "cell_type": "code",
      "metadata": {
        "colab": {
          "base_uri": "https://localhost:8080/",
          "height": 358
        },
        "id": "pJtIWZoroNge",
        "outputId": "577b181b-12c9-4fbd-fcba-3ee025730678"
      },
      "source": [
        "names = ['failed', 'sucessful', 'canceled', 'actual failed', 'actual successful', 'actual canceled']\n",
        "values = [cm_svm[0][0], cm_svm[1][1], cm_svm[2][2],counts[0], counts[1], counts[2]]\n",
        "plt.xticks(rotation='vertical')\n",
        "plt.bar(names, values, color=['blue','blue','blue','green','green','green'])"
      ],
      "execution_count": null,
      "outputs": [
        {
          "output_type": "execute_result",
          "data": {
            "text/plain": [
              "<BarContainer object of 6 artists>"
            ]
          },
          "metadata": {
            "tags": []
          },
          "execution_count": 76
        },
        {
          "output_type": "display_data",
          "data": {
            "image/png": "[encoded data removed]",
            "text/plain": [
              "<Figure size 432x288 with 1 Axes>"
            ]
          },
          "metadata": {
            "tags": [],
            "needs_background": "light"
          }
        }
      ]
    },
    {
      "cell_type": "code",
      "metadata": {
        "id": "oBm1F-6PSUkI"
      },
      "source": [
        ""
      ],
      "execution_count": null,
      "outputs": []
    }
  ]
}